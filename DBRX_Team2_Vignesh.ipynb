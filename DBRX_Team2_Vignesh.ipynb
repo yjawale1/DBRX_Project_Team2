{
 "cells": [
  {
   "cell_type": "markdown",
   "metadata": {
    "application/vnd.databricks.v1+cell": {
     "cellMetadata": {
      "byteLimit": 2048000,
      "rowLimit": 10000
     },
     "inputWidgets": {},
     "nuid": "1fc5e708-bccc-4ad8-a5d7-212ae0323021",
     "showTitle": false,
     "tableResultSettingsMap": {},
     "title": ""
    }
   },
   "source": [
    "### Air Quality Index (AQI) Trend Analysis – USA (2020–2024)"
   ]
  },
  {
   "cell_type": "markdown",
   "metadata": {
    "application/vnd.databricks.v1+cell": {
     "cellMetadata": {},
     "inputWidgets": {},
     "nuid": "d579c860-c9be-4ebc-a4a9-ef8614ab6e63",
     "showTitle": false,
     "tableResultSettingsMap": {},
     "title": ""
    }
   },
   "source": [
    "#### Data Preparation"
   ]
  },
  {
   "cell_type": "code",
   "execution_count": 0,
   "metadata": {
    "application/vnd.databricks.v1+cell": {
     "cellMetadata": {
      "byteLimit": 2048000,
      "rowLimit": 10000
     },
     "inputWidgets": {},
     "nuid": "1567a2ee-d31f-4566-bd36-ad3a0a097e52",
     "showTitle": false,
     "tableResultSettingsMap": {},
     "title": ""
    }
   },
   "outputs": [],
   "source": [
    "# **Load and Merge Data for aqi_county_df**\n",
    "aqi_county_df_2020 = spark.read.csv(\"/Volumes/workspace/2235_team2/aqi/annual_aqi_by_county_2020.csv\", header=True, inferSchema=True)\n",
    "aqi_county_df_2021 = spark.read.csv(\"/Volumes/workspace/2235_team2/aqi/annual_aqi_by_county_2021.csv\", header=True, inferSchema=True)\n",
    "aqi_county_df_2022 = spark.read.csv(\"/Volumes/workspace/2235_team2/aqi/annual_aqi_by_county_2022.csv\", header=True, inferSchema=True)\n",
    "aqi_county_df_2023 = spark.read.csv(\"/Volumes/workspace/2235_team2/aqi/annual_aqi_by_county_2023.csv\", header=True, inferSchema=True)\n",
    "aqi_county_df_2024 = spark.read.csv(\"/Volumes/workspace/2235_team2/aqi/annual_aqi_by_county_2024.csv\", header=True, inferSchema=True)\n",
    "\n",
    "aqi_county_df = aqi_county_df_2020.union(aqi_county_df_2021).union(aqi_county_df_2022).union(aqi_county_df_2023).union(aqi_county_df_2024)\n",
    "aqi_county_df.show(2)\n",
    "aqi_county_df.count()"
   ]
  },
  {
   "cell_type": "code",
   "execution_count": 0,
   "metadata": {
    "application/vnd.databricks.v1+cell": {
     "cellMetadata": {
      "byteLimit": 2048000,
      "rowLimit": 10000
     },
     "inputWidgets": {},
     "nuid": "29efb9ce-a3d7-4081-85a0-0e71e917db5e",
     "showTitle": false,
     "tableResultSettingsMap": {},
     "title": ""
    }
   },
   "outputs": [],
   "source": [
    "aqi_county_df.printSchema()"
   ]
  },
  {
   "cell_type": "code",
   "execution_count": 0,
   "metadata": {
    "application/vnd.databricks.v1+cell": {
     "cellMetadata": {
      "byteLimit": 2048000,
      "rowLimit": 10000
     },
     "inputWidgets": {},
     "nuid": "ca192168-506a-4657-81aa-05108c500f59",
     "showTitle": false,
     "tableResultSettingsMap": {},
     "title": ""
    }
   },
   "outputs": [],
   "source": [
    "from pyspark.sql.types import *\n",
    "from pyspark.sql.functions import *"
   ]
  },
  {
   "cell_type": "code",
   "execution_count": 0,
   "metadata": {
    "application/vnd.databricks.v1+cell": {
     "cellMetadata": {
      "byteLimit": 2048000,
      "rowLimit": 10000
     },
     "inputWidgets": {},
     "nuid": "b8589e4a-fd96-4681-9005-686f5574249d",
     "showTitle": false,
     "tableResultSettingsMap": {},
     "title": ""
    }
   },
   "outputs": [],
   "source": [
    "#Importing FIPS Code for County and State\n",
    "fips_code_county = spark.read.csv(\"/Volumes/workspace/2235_team2/aqi/FIPS_Codes_County.csv\", header=True, inferSchema=True)\n",
    "fips_code_state = spark.read.csv(\"/Volumes/workspace/2235_team2/aqi/FIPS_Codes_State.csv\", header=True, inferSchema=True)\n"
   ]
  },
  {
   "cell_type": "code",
   "execution_count": 0,
   "metadata": {
    "application/vnd.databricks.v1+cell": {
     "cellMetadata": {
      "byteLimit": 2048000,
      "rowLimit": 10000
     },
     "inputWidgets": {},
     "nuid": "f8d5f543-a056-4095-bc3f-27ec7f5b3329",
     "showTitle": false,
     "tableResultSettingsMap": {},
     "title": ""
    }
   },
   "outputs": [],
   "source": [
    "# Trim whitespace from the 'County' column in the fips_code_county DataFrame\n",
    "fips_code_county = fips_code_county.withColumn('County', trim(fips_code_county['County']))\n",
    "fips_code_county.show(2)\n",
    "fips_code_county.printSchema()"
   ]
  },
  {
   "cell_type": "code",
   "execution_count": 0,
   "metadata": {
    "application/vnd.databricks.v1+cell": {
     "cellMetadata": {
      "byteLimit": 2048000,
      "rowLimit": 10000
     },
     "inputWidgets": {},
     "nuid": "83103d85-22fa-44c7-910b-20432424c319",
     "showTitle": false,
     "tableResultSettingsMap": {},
     "title": ""
    }
   },
   "outputs": [],
   "source": [
    "# Convert the 'State' column to lowercase and trim whitespace in the fips_code_state DataFrame\n",
    "fips_code_state = fips_code_state.withColumn('State', lower(trim(fips_code_state['State'])))"
   ]
  },
  {
   "cell_type": "code",
   "execution_count": 0,
   "metadata": {
    "application/vnd.databricks.v1+cell": {
     "cellMetadata": {
      "byteLimit": 2048000,
      "rowLimit": 10000
     },
     "inputWidgets": {},
     "nuid": "fb3a727f-0327-4d51-8091-140c4ba94de3",
     "showTitle": false,
     "tableResultSettingsMap": {},
     "title": ""
    }
   },
   "outputs": [],
   "source": [
    "# Trim whitespace from the 'State Code' column in the fips_code_state DataFrame\n",
    "fips_code_state = fips_code_state.withColumn('State Code', trim(fips_code_state['State Code']))"
   ]
  },
  {
   "cell_type": "code",
   "execution_count": 0,
   "metadata": {
    "application/vnd.databricks.v1+cell": {
     "cellMetadata": {
      "byteLimit": 2048000,
      "rowLimit": 10000
     },
     "inputWidgets": {},
     "nuid": "cb127c41-5387-4de8-8f3b-edd0e46374fe",
     "showTitle": false,
     "tableResultSettingsMap": {},
     "title": ""
    }
   },
   "outputs": [],
   "source": [
    "fips_code_state.show(5)"
   ]
  },
  {
   "cell_type": "code",
   "execution_count": 0,
   "metadata": {
    "application/vnd.databricks.v1+cell": {
     "cellMetadata": {
      "byteLimit": 2048000,
      "rowLimit": 10000
     },
     "inputWidgets": {},
     "nuid": "b5f49cd5-fdca-4bd9-b987-c4b9f2d4c9c7",
     "showTitle": false,
     "tableResultSettingsMap": {},
     "title": ""
    }
   },
   "outputs": [],
   "source": [
    "# Trim whitespace from the 'County' and 'State' columns in the aqi_county_df DataFrame\n",
    "aqi_county_df_trimmed = aqi_county_df.withColumn('County', trim(aqi_county_df['County']))\n",
    "aqi_county_df_trimmed = aqi_county_df.withColumn('State', trim(aqi_county_df['State']))\n",
    "aqi_county_df_trimmed.show(5)"
   ]
  },
  {
   "cell_type": "code",
   "execution_count": 0,
   "metadata": {
    "application/vnd.databricks.v1+cell": {
     "cellMetadata": {
      "byteLimit": 2048000,
      "rowLimit": 10000
     },
     "inputWidgets": {},
     "nuid": "a7ae0ae5-3a0d-438e-a089-b224db6cc93c",
     "showTitle": false,
     "tableResultSettingsMap": {},
     "title": ""
    }
   },
   "outputs": [],
   "source": [
    "aqi_county_df = aqi_county_df_trimmed\n",
    "aqi_county_df.show(2)"
   ]
  },
  {
   "cell_type": "code",
   "execution_count": 0,
   "metadata": {
    "application/vnd.databricks.v1+cell": {
     "cellMetadata": {
      "byteLimit": 2048000,
      "rowLimit": 10000
     },
     "inputWidgets": {},
     "nuid": "b6475b99-e9c6-4cd7-b70f-8bdb7a11d247",
     "showTitle": false,
     "tableResultSettingsMap": {},
     "title": ""
    }
   },
   "outputs": [],
   "source": [
    "#Year-over-year trend of \"Good\" vs \"Unhealthy\" days.\n",
    "#Check if there are null rows in Good Days & Unhealthy Days\n",
    "aqi_county_df.filter(col(\"Good Days\").isNull()==True).show()\n",
    "aqi_county_df.filter(col(\"Unhealthy Days\").isNull()==True).show()"
   ]
  },
  {
   "cell_type": "markdown",
   "metadata": {
    "application/vnd.databricks.v1+cell": {
     "cellMetadata": {},
     "inputWidgets": {},
     "nuid": "f81fea51-635a-4357-a5c4-a8121f44fae0",
     "showTitle": false,
     "tableResultSettingsMap": {},
     "title": ""
    }
   },
   "source": [
    "#### A. National Trends"
   ]
  },
  {
   "cell_type": "code",
   "execution_count": 0,
   "metadata": {
    "application/vnd.databricks.v1+cell": {
     "cellMetadata": {
      "byteLimit": 2048000,
      "rowLimit": 10000
     },
     "inputWidgets": {},
     "nuid": "6b9b3e06-976c-419c-9fc7-7432df170718",
     "showTitle": false,
     "tableResultSettingsMap": {},
     "title": ""
    }
   },
   "outputs": [],
   "source": [
    "#Year-over-year trend of \"Good\" vs \"Unhealthy\" days.\n",
    "days_trend_details = aqi_county_df.groupBy(\"Year\",\"State\").agg(count(\"County\").alias(\"County_Count\"), sum(\"Good Days\").alias(\"Good Days\"), sum(\"Unhealthy Days\").alias(\"Unhealthy Days\"))\n",
    "display(days_trend_details)"
   ]
  },
  {
   "cell_type": "code",
   "execution_count": 0,
   "metadata": {
    "application/vnd.databricks.v1+cell": {
     "cellMetadata": {
      "byteLimit": 2048000,
      "rowLimit": 10000
     },
     "inputWidgets": {},
     "nuid": "fcc5d9d0-3831-4f53-9fa9-b1740d8fc108",
     "showTitle": false,
     "tableResultSettingsMap": {},
     "title": ""
    }
   },
   "outputs": [],
   "source": [
    "#divide good days and bad days by county count and round them to 0 decimal places and finally sort them by year and State Ascending\n",
    "days_trend = days_trend_details.withColumn(\"Good Days\", days_trend_details[\"Good Days\"]/days_trend_details[\"County_Count\"]).withColumn(\"Unhealthy Days\", days_trend_details[\"Unhealthy Days\"]/days_trend_details[\"County_Count\"]).withColumn(\"Good Days\", round(\"Good Days\",0)).withColumn(\"Unhealthy Days\", round(\"Unhealthy Days\",0)).withColumn(\"Year\", days_trend_details[\"Year\"].cast(IntegerType())).orderBy(\"Year\",\"State\")\n",
    "display(days_trend)"
   ]
  },
  {
   "cell_type": "code",
   "execution_count": 0,
   "metadata": {
    "application/vnd.databricks.v1+cell": {
     "cellMetadata": {
      "byteLimit": 2048000,
      "rowLimit": 10000
     },
     "inputWidgets": {},
     "nuid": "d7e18e3a-23e0-4129-872c-1ea2f79bdae6",
     "showTitle": false,
     "tableResultSettingsMap": {
      "0": {
       "dataGridStateBlob": "{\"version\":1,\"tableState\":{\"columnPinning\":{\"left\":[\"#row_number#\"],\"right\":[]},\"columnSizing\":{},\"columnVisibility\":{}},\"settings\":{\"columns\":{}},\"syncTimestamp\":1755638524644}",
       "filterBlob": null,
       "queryPlanFiltersBlob": null,
       "tableResultIndex": 0
      }
     },
     "title": ""
    }
   },
   "outputs": [
    {
     "output_type": "display_data",
     "data": {
      "text/plain": [
       "Databricks visualization. Run in Databricks to view."
      ]
     },
     "metadata": {
      "application/vnd.databricks.v1.subcommand+json": {
       "baseErrorDetails": null,
       "bindings": {},
       "collapsed": false,
       "command": "%python\n__backend_agg_display_orig = display\n__backend_agg_dfs = []\ndef __backend_agg_display_new(df):\n    __backend_agg_df_modules = [\"pandas.core.frame\", \"databricks.koalas.frame\", \"pyspark.sql.dataframe\", \"pyspark.pandas.frame\", \"pyspark.sql.connect.dataframe\"]\n    if (type(df).__module__ in __backend_agg_df_modules and type(df).__name__ == 'DataFrame') or isinstance(df, list):\n        __backend_agg_dfs.append(df)\n\ndisplay = __backend_agg_display_new\n\ndef __backend_agg_user_code_fn():\n    import base64\n    exec(base64.standard_b64decode(\"I2Ryb3AgY291bnR5IGNvdW50CmRheXNfdHJlbmRfTmF0aW9uYWwgPSBkYXlzX3RyZW5kLmRyb3AoIkNvdW50eV9Db3VudCIpCmRpc3BsYXkoZGF5c190cmVuZF9OYXRpb25hbCkKCg==\").decode())\n\ntry:\n    # run user code\n    __backend_agg_user_code_fn()\n\n    #reset display function\n    display = __backend_agg_display_orig\n\n    if len(__backend_agg_dfs) > 0:\n        # create a temp view\n        if type(__backend_agg_dfs[0]).__module__ == \"databricks.koalas.frame\":\n            # koalas dataframe\n            __backend_agg_dfs[0].to_spark().createOrReplaceTempView(\"DatabricksViewacc125a\")\n        elif type(__backend_agg_dfs[0]).__module__ == \"pandas.core.frame\" or isinstance(__backend_agg_dfs[0], list):\n            # pandas dataframe\n            spark.createDataFrame(__backend_agg_dfs[0]).createOrReplaceTempView(\"DatabricksViewacc125a\")\n        else:\n            __backend_agg_dfs[0].createOrReplaceTempView(\"DatabricksViewacc125a\")\n        #run backend agg\n        display(spark.sql(\"\"\"WITH q AS (select * from DatabricksViewacc125a) SELECT `State`,SUM(`Good Days`) `column_a95791e5154`,`Year` FROM q GROUP BY `State`,`Year`\"\"\"))\n    else:\n        displayHTML(\"dataframe no longer exists. If you're using dataframe.display(), use display(dataframe) instead.\")\n\n\nfinally:\n    spark.sql(\"drop view if exists DatabricksViewacc125a\")\n    display = __backend_agg_display_orig\n    del __backend_agg_display_new\n    del __backend_agg_display_orig\n    del __backend_agg_dfs\n    del __backend_agg_user_code_fn\n\n",
       "commandTitle": "5 Year - Good Days AQI by State",
       "commandType": "auto",
       "commandVersion": 0,
       "commentThread": [],
       "commentsVisible": false,
       "contentSha256Hex": null,
       "customPlotOptions": {
        "redashChart": [
         {
          "key": "type",
          "value": "CHART"
         },
         {
          "key": "options",
          "value": {
           "alignYAxesAtZero": true,
           "coefficient": 1,
           "columnConfigurationMap": {
            "series": {
             "column": "Year",
             "id": "column_a95791e5150"
            },
            "x": {
             "column": "State",
             "id": "column_a95791e5152"
            },
            "y": [
             {
              "column": "Good Days",
              "id": "column_a95791e5154",
              "transform": "SUM"
             }
            ]
           },
           "dateTimeFormat": "DD/MM/YYYY HH:mm",
           "direction": {
            "type": "counterclockwise"
           },
           "error_y": {
            "type": "data",
            "visible": true
           },
           "globalSeriesType": "column",
           "isAggregationOn": true,
           "legend": {
            "traceorder": "normal"
           },
           "missingValuesAsZero": true,
           "numberFormat": "0,0.[00000]",
           "percentFormat": "0[.]00%",
           "series": {
            "error_y": {
             "type": "data",
             "visible": true
            },
            "stacking": null
           },
           "seriesOptions": {
            "column_a95791e5154": {
             "type": "column",
             "yAxis": 0
            }
           },
           "showDataLabels": false,
           "sizemode": "diameter",
           "sortX": true,
           "sortY": true,
           "swappedAxes": false,
           "textFormat": "",
           "useAggregationsUi": true,
           "valuesOptions": {},
           "version": 2,
           "xAxis": {
            "labels": {
             "enabled": true
            },
            "type": "-"
           },
           "yAxis": [
            {
             "type": "-"
            },
            {
             "opposite": true,
             "type": "-"
            }
           ]
          }
         }
        ]
       },
       "datasetPreviewNameToCmdIdMap": {},
       "diffDeletes": [],
       "diffInserts": [],
       "displayType": "redashChart",
       "error": null,
       "errorDetails": null,
       "errorSummary": null,
       "errorTraceType": null,
       "finishTime": 0,
       "globalVars": {},
       "guid": "",
       "height": "auto",
       "hideCommandCode": false,
       "hideCommandResult": false,
       "iPythonMetadata": null,
       "inputWidgets": {},
       "isLockedInExamMode": false,
       "latestUser": "a user",
       "latestUserId": null,
       "listResultMetadata": null,
       "metadata": {},
       "nuid": "d4f60351-3a8a-40ab-9b06-b9b1e6da9db6",
       "origId": 0,
       "parentHierarchy": [],
       "pivotAggregation": null,
       "pivotColumns": null,
       "position": 32.625,
       "resultDbfsErrorMessage": null,
       "resultDbfsStatus": "INLINED_IN_TREE",
       "results": null,
       "showCommandTitle": false,
       "startTime": 0,
       "state": "input",
       "streamStates": {},
       "subcommandOptions": {
        "queryPlan": {
         "groups": [
          {
           "column": "State",
           "type": "column"
          },
          {
           "column": "Year",
           "type": "column"
          }
         ],
         "selects": [
          {
           "column": "State",
           "type": "column"
          },
          {
           "alias": "column_a95791e5154",
           "args": [
            {
             "column": "Good Days",
             "type": "column"
            }
           ],
           "function": "SUM",
           "type": "function"
          },
          {
           "column": "Year",
           "type": "column"
          }
         ]
        }
       },
       "submitTime": 0,
       "subtype": "tableResultSubCmd.visualization",
       "tableResultIndex": 0,
       "tableResultSettingsMap": {},
       "useConsistentColors": false,
       "version": "CommandV1",
       "width": "auto",
       "workflows": null,
       "xColumns": null,
       "yColumns": null
      }
     },
     "output_type": "display_data"
    },
    {
     "output_type": "display_data",
     "data": {
      "text/plain": [
       "Databricks visualization. Run in Databricks to view."
      ]
     },
     "metadata": {
      "application/vnd.databricks.v1.subcommand+json": {
       "baseErrorDetails": null,
       "bindings": {},
       "collapsed": false,
       "command": "%python\n__backend_agg_display_orig = display\n__backend_agg_dfs = []\ndef __backend_agg_display_new(df):\n    __backend_agg_df_modules = [\"pandas.core.frame\", \"databricks.koalas.frame\", \"pyspark.sql.dataframe\", \"pyspark.pandas.frame\", \"pyspark.sql.connect.dataframe\"]\n    if (type(df).__module__ in __backend_agg_df_modules and type(df).__name__ == 'DataFrame') or isinstance(df, list):\n        __backend_agg_dfs.append(df)\n\ndisplay = __backend_agg_display_new\n\ndef __backend_agg_user_code_fn():\n    import base64\n    exec(base64.standard_b64decode(\"I2Ryb3AgY291bnR5IGNvdW50CmRheXNfdHJlbmRfTmF0aW9uYWwgPSBkYXlzX3RyZW5kLmRyb3AoIkNvdW50eV9Db3VudCIpCmRpc3BsYXkoZGF5c190cmVuZF9OYXRpb25hbCkKCg==\").decode())\n\ntry:\n    # run user code\n    __backend_agg_user_code_fn()\n\n    #reset display function\n    display = __backend_agg_display_orig\n\n    if len(__backend_agg_dfs) > 0:\n        # create a temp view\n        if type(__backend_agg_dfs[0]).__module__ == \"databricks.koalas.frame\":\n            # koalas dataframe\n            __backend_agg_dfs[0].to_spark().createOrReplaceTempView(\"DatabricksViewacc125a\")\n        elif type(__backend_agg_dfs[0]).__module__ == \"pandas.core.frame\" or isinstance(__backend_agg_dfs[0], list):\n            # pandas dataframe\n            spark.createDataFrame(__backend_agg_dfs[0]).createOrReplaceTempView(\"DatabricksViewacc125a\")\n        else:\n            __backend_agg_dfs[0].createOrReplaceTempView(\"DatabricksViewacc125a\")\n        #run backend agg\n        display(spark.sql(\"\"\"WITH q AS (select * from DatabricksViewacc125a) SELECT `State`,SUM(`Good Days`) `column_a95791e5154`,`Year` FROM q GROUP BY `State`,`Year`\"\"\"))\n    else:\n        displayHTML(\"dataframe no longer exists. If you're using dataframe.display(), use display(dataframe) instead.\")\n\n\nfinally:\n    spark.sql(\"drop view if exists DatabricksViewacc125a\")\n    display = __backend_agg_display_orig\n    del __backend_agg_display_new\n    del __backend_agg_display_orig\n    del __backend_agg_dfs\n    del __backend_agg_user_code_fn\n\n",
       "commandTitle": "5 Year - Bad Days AQI by State",
       "commandType": "auto",
       "commandVersion": 0,
       "commentThread": [],
       "commentsVisible": false,
       "contentSha256Hex": null,
       "customPlotOptions": {
        "redashChart": [
         {
          "key": "type",
          "value": "CHART"
         },
         {
          "key": "options",
          "value": {
           "alignYAxesAtZero": true,
           "coefficient": 1,
           "columnConfigurationMap": {
            "series": {
             "column": "Year",
             "id": "column_a95791e5150"
            },
            "x": {
             "column": "State",
             "id": "column_a95791e5152"
            },
            "y": [
             {
              "column": "Unhealthy Days",
              "id": "column_a95791e5154",
              "transform": "SUM"
             }
            ]
           },
           "dateTimeFormat": "DD/MM/YYYY HH:mm",
           "direction": {
            "type": "counterclockwise"
           },
           "error_y": {
            "type": "data",
            "visible": true
           },
           "globalSeriesType": "column",
           "isAggregationOn": true,
           "legend": {
            "traceorder": "normal"
           },
           "missingValuesAsZero": true,
           "numberFormat": "0,0.[00000]",
           "percentFormat": "0[.]00%",
           "series": {
            "error_y": {
             "type": "data",
             "visible": true
            },
            "stacking": null
           },
           "seriesOptions": {
            "column_a95791e5154": {
             "type": "column",
             "yAxis": 0
            }
           },
           "showDataLabels": false,
           "sizemode": "diameter",
           "sortX": true,
           "sortY": true,
           "swappedAxes": false,
           "textFormat": "",
           "useAggregationsUi": true,
           "valuesOptions": {},
           "version": 2,
           "xAxis": {
            "labels": {
             "enabled": true
            },
            "type": "-"
           },
           "yAxis": [
            {
             "type": "-"
            },
            {
             "opposite": true,
             "type": "-"
            }
           ]
          }
         }
        ]
       },
       "datasetPreviewNameToCmdIdMap": {},
       "diffDeletes": [],
       "diffInserts": [],
       "displayType": "redashChart",
       "error": null,
       "errorDetails": null,
       "errorSummary": null,
       "errorTraceType": null,
       "finishTime": 0,
       "globalVars": {},
       "guid": "",
       "height": "auto",
       "hideCommandCode": false,
       "hideCommandResult": false,
       "iPythonMetadata": null,
       "inputWidgets": {},
       "isLockedInExamMode": false,
       "latestUser": "a user",
       "latestUserId": null,
       "listResultMetadata": null,
       "metadata": {},
       "nuid": "b43a0406-f5f4-4b21-9cfd-1c149ad0a185",
       "origId": 0,
       "parentHierarchy": [],
       "pivotAggregation": null,
       "pivotColumns": null,
       "position": 33.625,
       "resultDbfsErrorMessage": null,
       "resultDbfsStatus": "INLINED_IN_TREE",
       "results": null,
       "showCommandTitle": false,
       "startTime": 0,
       "state": "input",
       "streamStates": {},
       "subcommandOptions": {
        "queryPlan": {
         "groups": [
          {
           "column": "State",
           "type": "column"
          },
          {
           "column": "Year",
           "type": "column"
          }
         ],
         "selects": [
          {
           "column": "State",
           "type": "column"
          },
          {
           "alias": "column_a95791e5154",
           "args": [
            {
             "column": "Unhealthy Days",
             "type": "column"
            }
           ],
           "function": "SUM",
           "type": "function"
          },
          {
           "column": "Year",
           "type": "column"
          }
         ]
        }
       },
       "submitTime": 0,
       "subtype": "tableResultSubCmd.visualization",
       "tableResultIndex": 0,
       "tableResultSettingsMap": {},
       "useConsistentColors": false,
       "version": "CommandV1",
       "width": "auto",
       "workflows": null,
       "xColumns": null,
       "yColumns": null
      }
     },
     "output_type": "display_data"
    },
    {
     "output_type": "display_data",
     "data": {
      "text/plain": [
       "Databricks visualization. Run in Databricks to view."
      ]
     },
     "metadata": {
      "application/vnd.databricks.v1.subcommand+json": {
       "baseErrorDetails": null,
       "bindings": {},
       "collapsed": false,
       "command": "%python\n__backend_agg_display_orig = display\n__backend_agg_dfs = []\ndef __backend_agg_display_new(df):\n    __backend_agg_df_modules = [\"pandas.core.frame\", \"databricks.koalas.frame\", \"pyspark.sql.dataframe\", \"pyspark.pandas.frame\", \"pyspark.sql.connect.dataframe\"]\n    if (type(df).__module__ in __backend_agg_df_modules and type(df).__name__ == 'DataFrame') or isinstance(df, list):\n        __backend_agg_dfs.append(df)\n\ndisplay = __backend_agg_display_new\n\ndef __backend_agg_user_code_fn():\n    import base64\n    exec(base64.standard_b64decode(\"I2Ryb3AgY291bnR5IGNvdW50CmRheXNfdHJlbmRfTmF0aW9uYWwgPSBkYXlzX3RyZW5kLmRyb3AoIkNvdW50eV9Db3VudCIpCmRpc3BsYXkoZGF5c190cmVuZF9OYXRpb25hbCkKCg==\").decode())\n\ntry:\n    # run user code\n    __backend_agg_user_code_fn()\n\n    #reset display function\n    display = __backend_agg_display_orig\n\n    if len(__backend_agg_dfs) > 0:\n        # create a temp view\n        if type(__backend_agg_dfs[0]).__module__ == \"databricks.koalas.frame\":\n            # koalas dataframe\n            __backend_agg_dfs[0].to_spark().createOrReplaceTempView(\"DatabricksViewa559b0a\")\n        elif type(__backend_agg_dfs[0]).__module__ == \"pandas.core.frame\" or isinstance(__backend_agg_dfs[0], list):\n            # pandas dataframe\n            spark.createDataFrame(__backend_agg_dfs[0]).createOrReplaceTempView(\"DatabricksViewa559b0a\")\n        else:\n            __backend_agg_dfs[0].createOrReplaceTempView(\"DatabricksViewa559b0a\")\n        #run backend agg\n        display(spark.sql(\"\"\"WITH q AS (select * from DatabricksViewa559b0a) SELECT `Year`,SUM(`Good Days`) `column_1c0a4a5d250`,`State` FROM q GROUP BY `State`,`Year`\"\"\"))\n    else:\n        displayHTML(\"dataframe no longer exists. If you're using dataframe.display(), use display(dataframe) instead.\")\n\n\nfinally:\n    spark.sql(\"drop view if exists DatabricksViewa559b0a\")\n    display = __backend_agg_display_orig\n    del __backend_agg_display_new\n    del __backend_agg_display_orig\n    del __backend_agg_dfs\n    del __backend_agg_user_code_fn\n\n",
       "commandTitle": "AQI - Good Days",
       "commandType": "auto",
       "commandVersion": 0,
       "commentThread": [],
       "commentsVisible": false,
       "contentSha256Hex": null,
       "customPlotOptions": {
        "redashChart": [
         {
          "key": "type",
          "value": "CHART"
         },
         {
          "key": "options",
          "value": {
           "alignYAxesAtZero": true,
           "coefficient": 1,
           "columnConfigurationMap": {
            "series": {
             "column": "State",
             "id": "column_1c0a4a5d248"
            },
            "x": {
             "column": "Year",
             "id": "column_1c0a4a5d247"
            },
            "y": [
             {
              "column": "Good Days",
              "id": "column_1c0a4a5d250",
              "transform": "SUM"
             }
            ]
           },
           "dateTimeFormat": "DD/MM/YYYY HH:mm",
           "direction": {
            "type": "counterclockwise"
           },
           "error_y": {
            "type": "data",
            "visible": true
           },
           "globalSeriesType": "line",
           "isAggregationOn": true,
           "legend": {
            "traceorder": "normal"
           },
           "missingValuesAsZero": true,
           "numberFormat": "0,0.[00000]",
           "percentFormat": "0[.]00%",
           "series": {
            "error_y": {
             "type": "data",
             "visible": true
            },
            "stacking": null
           },
           "seriesOptions": {
            "column_1c0a4a5d250": {
             "type": "line",
             "yAxis": 0
            }
           },
           "showDataLabels": false,
           "sizemode": "diameter",
           "sortX": true,
           "sortY": true,
           "swappedAxes": false,
           "textFormat": "",
           "useAggregationsUi": true,
           "valuesOptions": {},
           "version": 2,
           "xAxis": {
            "labels": {
             "enabled": true
            },
            "type": "-"
           },
           "yAxis": [
            {
             "type": "-"
            },
            {
             "opposite": true,
             "type": "-"
            }
           ]
          }
         }
        ]
       },
       "datasetPreviewNameToCmdIdMap": {},
       "diffDeletes": [],
       "diffInserts": [],
       "displayType": "redashChart",
       "error": null,
       "errorDetails": null,
       "errorSummary": null,
       "errorTraceType": null,
       "finishTime": 0,
       "globalVars": {},
       "guid": "",
       "height": "auto",
       "hideCommandCode": false,
       "hideCommandResult": false,
       "iPythonMetadata": null,
       "inputWidgets": {},
       "isLockedInExamMode": false,
       "latestUser": "a user",
       "latestUserId": null,
       "listResultMetadata": null,
       "metadata": {},
       "nuid": "a4a6d96b-1f4c-4282-a5c7-2854bc60f757",
       "origId": 0,
       "parentHierarchy": [],
       "pivotAggregation": null,
       "pivotColumns": null,
       "position": 34.625,
       "resultDbfsErrorMessage": null,
       "resultDbfsStatus": "INLINED_IN_TREE",
       "results": null,
       "showCommandTitle": false,
       "startTime": 0,
       "state": "input",
       "streamStates": {},
       "subcommandOptions": {
        "queryPlan": {
         "groups": [
          {
           "column": "Year",
           "type": "column"
          },
          {
           "column": "State",
           "type": "column"
          }
         ],
         "selects": [
          {
           "column": "Year",
           "type": "column"
          },
          {
           "alias": "column_1c0a4a5d250",
           "args": [
            {
             "column": "Good Days",
             "type": "column"
            }
           ],
           "function": "SUM",
           "type": "function"
          },
          {
           "column": "State",
           "type": "column"
          }
         ]
        }
       },
       "submitTime": 0,
       "subtype": "tableResultSubCmd.visualization",
       "tableResultIndex": 0,
       "tableResultSettingsMap": {},
       "useConsistentColors": false,
       "version": "CommandV1",
       "width": "auto",
       "workflows": null,
       "xColumns": null,
       "yColumns": null
      }
     },
     "output_type": "display_data"
    }
   ],
   "source": [
    "#drop county count\n",
    "days_trend_National = days_trend.drop(\"County_Count\")\n",
    "display(days_trend_National)"
   ]
  },
  {
   "cell_type": "code",
   "execution_count": 0,
   "metadata": {
    "application/vnd.databricks.v1+cell": {
     "cellMetadata": {
      "byteLimit": 2048000,
      "rowLimit": 10000
     },
     "inputWidgets": {},
     "nuid": "fe195afc-02b8-46bc-89fe-4b00bcb8d5df",
     "showTitle": false,
     "tableResultSettingsMap": {},
     "title": ""
    }
   },
   "outputs": [],
   "source": [
    "# Rename columns and save the DataFrame as a table\n",
    "days_trend_National = days_trend_National.withColumnRenamed('Good Days', 'Good_Days').withColumnRenamed('Unhealthy Days', 'Unhealthy_Days')\n",
    "days_trend_National.write.mode(\"overwrite\").saveAsTable('workspace.2235_team2.days_trend_National')"
   ]
  },
  {
   "cell_type": "code",
   "execution_count": 0,
   "metadata": {
    "application/vnd.databricks.v1+cell": {
     "cellMetadata": {
      "byteLimit": 2048000,
      "rowLimit": 10000
     },
     "inputWidgets": {},
     "nuid": "1fce8cc1-b673-4b56-80a8-6f80c46de320",
     "showTitle": false,
     "tableResultSettingsMap": {},
     "title": ""
    }
   },
   "outputs": [],
   "source": [
    "days_trend_National.printSchema()"
   ]
  },
  {
   "cell_type": "code",
   "execution_count": 0,
   "metadata": {
    "application/vnd.databricks.v1+cell": {
     "cellMetadata": {
      "byteLimit": 2048000,
      "rowLimit": 10000
     },
     "inputWidgets": {},
     "nuid": "d0e6b66e-e446-41b1-b6f0-521cf153ac91",
     "showTitle": false,
     "tableResultSettingsMap": {},
     "title": ""
    }
   },
   "outputs": [],
   "source": [
    "#aggregate by year\n",
    "days_trend_National_by_year = days_trend_National.groupBy(\"Year\").agg(count(\"State\").alias(\"State_Count\"), sum(\"Good Days\").alias(\"Good_Days\"), sum(\"Unhealthy Days\").alias(\"Unhealthy_Days\")).orderBy(\"Year\")\n",
    "display(days_trend_National_by_year)"
   ]
  },
  {
   "cell_type": "code",
   "execution_count": 0,
   "metadata": {
    "application/vnd.databricks.v1+cell": {
     "cellMetadata": {
      "byteLimit": 2048000,
      "rowLimit": 10000
     },
     "inputWidgets": {},
     "nuid": "e418289b-7f44-429d-af49-df303a990e98",
     "showTitle": false,
     "tableResultSettingsMap": {},
     "title": ""
    }
   },
   "outputs": [],
   "source": [
    "#divide good days and bad days by State Count and round them to 0 decimal places\n",
    "days_trend_Year = days_trend_National.withColumn(\"Good Days\", days_trend_National[\"Good Days\"]/days_trend_National[\"State_Count\"]).withColumn(\"Unhealthy Days\", days_trend_National[\"Unhealthy Days\"]/days_trend_National[\"State_Count\"]).withColumn(\"Good Days\", round(\"Good Days\",0)).withColumn(\"Unhealthy Days\", round(\"Unhealthy Days\",0)).withColumn(\"Year\", days_trend_National[\"Year\"].cast(IntegerType()))\n",
    "display(days_trend_Year)"
   ]
  },
  {
   "cell_type": "code",
   "execution_count": 0,
   "metadata": {
    "application/vnd.databricks.v1+cell": {
     "cellMetadata": {
      "byteLimit": 2048000,
      "rowLimit": 10000
     },
     "inputWidgets": {},
     "nuid": "9c42c467-25cd-4c53-a330-235adc5bae62",
     "showTitle": false,
     "tableResultSettingsMap": {},
     "title": ""
    }
   },
   "outputs": [],
   "source": [
    "# Drop the 'State_Count' column from the DataFrame\n",
    "days_trend_Year = days_trend_Year.drop(\"State_Count\")\n",
    "display(days_trend_Year)"
   ]
  },
  {
   "cell_type": "code",
   "execution_count": 0,
   "metadata": {
    "application/vnd.databricks.v1+cell": {
     "cellMetadata": {
      "byteLimit": 2048000,
      "rowLimit": 10000
     },
     "inputWidgets": {},
     "nuid": "9c296470-9499-4774-93ea-1ef9c90a4ec0",
     "showTitle": false,
     "tableResultSettingsMap": {
      "0": {
       "dataGridStateBlob": "{\"version\":1,\"tableState\":{\"columnPinning\":{\"left\":[\"#row_number#\"],\"right\":[]},\"columnSizing\":{},\"columnVisibility\":{}},\"settings\":{\"columns\":{}},\"syncTimestamp\":1755641017581}",
       "filterBlob": null,
       "queryPlanFiltersBlob": null,
       "tableResultIndex": 0
      }
     },
     "title": ""
    }
   },
   "outputs": [
    {
     "output_type": "display_data",
     "data": {
      "text/plain": [
       "Databricks visualization. Run in Databricks to view."
      ]
     },
     "metadata": {
      "application/vnd.databricks.v1.subcommand+json": {
       "baseErrorDetails": null,
       "bindings": {},
       "collapsed": false,
       "command": "%python\n__backend_agg_display_orig = display\n__backend_agg_dfs = []\ndef __backend_agg_display_new(df):\n    __backend_agg_df_modules = [\"pandas.core.frame\", \"databricks.koalas.frame\", \"pyspark.sql.dataframe\", \"pyspark.pandas.frame\", \"pyspark.sql.connect.dataframe\"]\n    if (type(df).__module__ in __backend_agg_df_modules and type(df).__name__ == 'DataFrame') or isinstance(df, list):\n        __backend_agg_dfs.append(df)\n\ndisplay = __backend_agg_display_new\n\ndef __backend_agg_user_code_fn():\n    import base64\n    exec(base64.standard_b64decode(\"I0FubnVhbCAnTWF4IEFRSScsICc5MHRoIFBlcmNlbnRpbGUgQVFJJywgYW5kICdNZWRpYW4gQVFJJyBjb21wYXJpc29uIGFuZCByb3VuZCBpdCB0byAyIGRlY2ltYWwgcGxhY2VzCmFxaV9jb21wYXJpc29uX2RldGFpbCA9IGFxaV9jb3VudHlfZGYuZ3JvdXBCeSgiWWVhciIsIlN0YXRlIikuYWdnKGF2ZygibWF4IGFxaSIpLmFsaWFzKCJNYXggQVFJIiksIGF2ZygiOTB0aCBwZXJjZW50aWxlIGFxaSIpLmFsaWFzKCI5MHRoIFBlcmNlbnRpbGUgQVFJIiksIGF2ZygibWVkaWFuIGFxaSIpLmFsaWFzKCJNZWRpYW4gQVFJIikpCmFxaV9jb21wYXJpc29uID0gYXFpX2NvbXBhcmlzb25fZGV0YWlsLndpdGhDb2x1bW4oIk1heCBBUUkiLCByb3VuZCgiTWF4IEFRSSIsMikpLndpdGhDb2x1bW4oIjkwdGggUGVyY2VudGlsZSBBUUkiLCByb3VuZCgiOTB0aCBQZXJjZW50aWxlIEFRSSIsMikpLndpdGhDb2x1bW4oIk1lZGlhbiBBUUkiLCByb3VuZCgiTWVkaWFuIEFRSSIsMikpLndpdGhDb2x1bW4oIlllYXIiLCBhcWlfY29tcGFyaXNvbl9kZXRhaWxbIlllYXIiXS5jYXN0KEludGVnZXJUeXBlKCkpKS5vcmRlckJ5KCJZZWFyIiwiU3RhdGUiKQpkaXNwbGF5KGFxaV9jb21wYXJpc29uX2RldGFpbCk=\").decode())\n\ntry:\n    # run user code\n    __backend_agg_user_code_fn()\n\n    #reset display function\n    display = __backend_agg_display_orig\n\n    if len(__backend_agg_dfs) > 0:\n        # create a temp view\n        if type(__backend_agg_dfs[0]).__module__ == \"databricks.koalas.frame\":\n            # koalas dataframe\n            __backend_agg_dfs[0].to_spark().createOrReplaceTempView(\"DatabricksViewa8806bb\")\n        elif type(__backend_agg_dfs[0]).__module__ == \"pandas.core.frame\" or isinstance(__backend_agg_dfs[0], list):\n            # pandas dataframe\n            spark.createDataFrame(__backend_agg_dfs[0]).createOrReplaceTempView(\"DatabricksViewa8806bb\")\n        else:\n            __backend_agg_dfs[0].createOrReplaceTempView(\"DatabricksViewa8806bb\")\n        #run backend agg\n        display(spark.sql(\"\"\"WITH q AS (select * from DatabricksViewa8806bb) SELECT `State`,`Year`,AVG(`Max AQI`) `column_1c0a4a5d255` FROM q GROUP BY `State`,`Year`\"\"\"))\n    else:\n        displayHTML(\"dataframe no longer exists. If you're using dataframe.display(), use display(dataframe) instead.\")\n\n\nfinally:\n    spark.sql(\"drop view if exists DatabricksViewa8806bb\")\n    display = __backend_agg_display_orig\n    del __backend_agg_display_new\n    del __backend_agg_display_orig\n    del __backend_agg_dfs\n    del __backend_agg_user_code_fn\n\n",
       "commandTitle": "Max AQI Across States",
       "commandType": "auto",
       "commandVersion": 0,
       "commentThread": [],
       "commentsVisible": false,
       "contentSha256Hex": null,
       "customPlotOptions": {
        "redashChart": [
         {
          "key": "type",
          "value": "CHART"
         },
         {
          "key": "options",
          "value": {
           "alignYAxesAtZero": true,
           "coefficient": 1,
           "columnConfigurationMap": {
            "x": {
             "column": "State",
             "id": "column_a95791e5331"
            },
            "y": [
             {
              "column": "Year",
              "id": "column_a95791e5332"
             }
            ],
            "zVal": {
             "column": "Max_AQI",
             "id": "column_1c0a4a5d255",
             "transform": "AVG"
            }
           },
           "dateTimeFormat": "DD/MM/YYYY HH:mm",
           "direction": {
            "type": "counterclockwise"
           },
           "error_y": {
            "type": "data",
            "visible": true
           },
           "globalSeriesType": "heatmap",
           "isAggregationOn": true,
           "legend": {
            "traceorder": "normal"
           },
           "missingValuesAsZero": true,
           "numberFormat": "0,0.[00000]",
           "percentFormat": "0[.]00%",
           "series": {
            "error_y": {
             "type": "data",
             "visible": true
            },
            "stacking": null
           },
           "seriesOptions": {
            "Year": {
             "type": "heatmap",
             "yAxis": 0
            },
            "column_1c0a4a5d253": {
             "type": "heatmap",
             "yAxis": 0
            },
            "column_a95791e5328": {
             "type": "heatmap",
             "yAxis": 0
            },
            "column_a95791e5332": {
             "type": "heatmap",
             "yAxis": 0
            }
           },
           "showDataLabels": false,
           "sizemode": "diameter",
           "sortX": true,
           "sortY": true,
           "swappedAxes": false,
           "textFormat": "",
           "useAggregationsUi": true,
           "valuesOptions": {},
           "version": 2,
           "xAxis": {
            "labels": {
             "enabled": true
            },
            "type": "-"
           },
           "yAxis": [
            {
             "type": "-"
            },
            {
             "opposite": true,
             "type": "-"
            }
           ]
          }
         }
        ]
       },
       "datasetPreviewNameToCmdIdMap": {},
       "diffDeletes": [],
       "diffInserts": [],
       "displayType": "redashChart",
       "error": null,
       "errorDetails": null,
       "errorSummary": null,
       "errorTraceType": null,
       "finishTime": 0,
       "globalVars": {},
       "guid": "",
       "height": "auto",
       "hideCommandCode": false,
       "hideCommandResult": false,
       "iPythonMetadata": null,
       "inputWidgets": {},
       "isLockedInExamMode": false,
       "latestUser": "a user",
       "latestUserId": null,
       "listResultMetadata": null,
       "metadata": {},
       "nuid": "de20d17e-6173-4e8a-94f1-549b72009cfa",
       "origId": 0,
       "parentHierarchy": [],
       "pivotAggregation": null,
       "pivotColumns": null,
       "position": 35.625,
       "resultDbfsErrorMessage": null,
       "resultDbfsStatus": "INLINED_IN_TREE",
       "results": null,
       "showCommandTitle": false,
       "startTime": 0,
       "state": "input",
       "streamStates": {},
       "subcommandOptions": {
        "queryPlan": {
         "groups": [
          {
           "column": "State",
           "type": "column"
          },
          {
           "column": "Year",
           "type": "column"
          }
         ],
         "selects": [
          {
           "column": "State",
           "type": "column"
          },
          {
           "column": "Year",
           "type": "column"
          },
          {
           "alias": "column_1c0a4a5d255",
           "args": [
            {
             "column": "Max_AQI",
             "type": "column"
            }
           ],
           "function": "AVG",
           "type": "function"
          }
         ]
        }
       },
       "submitTime": 0,
       "subtype": "tableResultSubCmd.visualization",
       "tableResultIndex": 0,
       "tableResultSettingsMap": {},
       "useConsistentColors": false,
       "version": "CommandV1",
       "width": "auto",
       "workflows": null,
       "xColumns": null,
       "yColumns": null
      }
     },
     "output_type": "display_data"
    },
    {
     "output_type": "display_data",
     "data": {
      "text/plain": [
       "Databricks visualization. Run in Databricks to view."
      ]
     },
     "metadata": {
      "application/vnd.databricks.v1.subcommand+json": {
       "baseErrorDetails": null,
       "bindings": {},
       "collapsed": false,
       "command": "#Annual 'Max AQI', '90th Percentile AQI', and 'Median AQI' comparison and round it to 2 decimal places\naqi_comparison_detail = aqi_county_df.groupBy(\"Year\",\"State\").agg(avg(\"max aqi\").alias(\"Max AQI\"), avg(\"90th percentile aqi\").alias(\"90th Percentile AQI\"), avg(\"median aqi\").alias(\"Median AQI\"))\naqi_comparison = aqi_comparison_detail.withColumn(\"Max AQI\", round(\"Max AQI\",2)).withColumn(\"90th Percentile AQI\", round(\"90th Percentile AQI\",2)).withColumn(\"Median AQI\", round(\"Median AQI\",2)).withColumn(\"Year\", aqi_comparison_detail[\"Year\"].cast(IntegerType())).orderBy(\"Year\",\"State\")\ndisplay(aqi_comparison_detail)",
       "commandTitle": "90th Percentile AQI",
       "commandType": "auto",
       "commandVersion": 0,
       "commentThread": [],
       "commentsVisible": false,
       "contentSha256Hex": null,
       "customPlotOptions": {
        "redashChart": [
         {
          "key": "type",
          "value": "CHOROPLETH"
         },
         {
          "key": "options",
          "value": {
           "clusteringMode": "e",
           "colors": {
            "background": "#ffffff",
            "borders": "#ffffff",
            "max": "#002FB4",
            "min": "#799CFF",
            "noValue": "#dddddd"
           },
           "keyColumn": "State",
           "legend": {
            "alignText": "right",
            "position": "bottom-left",
            "visible": true
           },
           "mapType": "usa",
           "noValuePlaceholder": "N/A",
           "popup": {
            "enabled": true,
            "template": "Region: <b>{{ @@name }}</b>\n<br>\nValue: <b>{{ @@value }}</b>"
           },
           "steps": 5,
           "targetField": "name",
           "tooltip": {
            "enabled": true,
            "template": "<b>{{ @@name }}</b>: {{ @@value }}"
           },
           "valueColumn": "90th_Percentile_AQI",
           "valueFormat": "0,0.00"
          }
         }
        ]
       },
       "datasetPreviewNameToCmdIdMap": {},
       "diffDeletes": [],
       "diffInserts": [],
       "displayType": "redashChart",
       "error": null,
       "errorDetails": null,
       "errorSummary": null,
       "errorTraceType": null,
       "finishTime": 0,
       "globalVars": {},
       "guid": "",
       "height": "auto",
       "hideCommandCode": false,
       "hideCommandResult": false,
       "iPythonMetadata": null,
       "inputWidgets": {},
       "isLockedInExamMode": false,
       "latestUser": "a user",
       "latestUserId": null,
       "listResultMetadata": null,
       "metadata": {},
       "nuid": "7f228154-e672-4cb0-a6b3-f2228840bbef",
       "origId": 0,
       "parentHierarchy": [],
       "pivotAggregation": null,
       "pivotColumns": null,
       "position": 36.625,
       "resultDbfsErrorMessage": null,
       "resultDbfsStatus": "INLINED_IN_TREE",
       "results": null,
       "showCommandTitle": false,
       "startTime": 0,
       "state": "input",
       "streamStates": {},
       "subcommandOptions": {},
       "submitTime": 0,
       "subtype": "tableResultSubCmd.visualization",
       "tableResultIndex": 0,
       "tableResultSettingsMap": {},
       "useConsistentColors": false,
       "version": "CommandV1",
       "width": "auto",
       "workflows": null,
       "xColumns": null,
       "yColumns": null
      }
     },
     "output_type": "display_data"
    }
   ],
   "source": [
    "#Annual 'Max AQI', '90th Percentile AQI', and 'Median AQI' comparison and round it to 2 decimal places\n",
    "aqi_comparison_detail = aqi_county_df.groupBy(\"Year\",\"State\").agg(avg(\"max aqi\").alias(\"Max_AQI\"), avg(\"90th percentile aqi\").alias(\"90th_Percentile_AQI\"), avg(\"median aqi\").alias(\"Median_AQI\"))\n",
    "aqi_comparison = aqi_comparison_detail.withColumn(\"Max_AQI\", round(\"Max_AQI\",2)).withColumn(\"90th_Percentile_AQI\", round(\"90th_Percentile_AQI\",2)).withColumn(\"Median_AQI\", round(\"Median_AQI\",2)).withColumn(\"Year\", aqi_comparison_detail[\"Year\"].cast(IntegerType())).orderBy(\"Year\",\"State\")\n",
    "display(aqi_comparison_detail)"
   ]
  },
  {
   "cell_type": "code",
   "execution_count": 0,
   "metadata": {
    "application/vnd.databricks.v1+cell": {
     "cellMetadata": {
      "byteLimit": 2048000,
      "rowLimit": 10000
     },
     "inputWidgets": {},
     "nuid": "3a136407-755d-4cab-869c-b21984598377",
     "showTitle": false,
     "tableResultSettingsMap": {},
     "title": ""
    }
   },
   "outputs": [],
   "source": [
    "# Save the AQI comparison details DataFrame as a table\n",
    "aqi_comparison_detail.write.mode(\"overwrite\").saveAsTable('workspace.2235_team2.aqi_comparison_detail')"
   ]
  },
  {
   "cell_type": "code",
   "execution_count": 0,
   "metadata": {
    "application/vnd.databricks.v1+cell": {
     "cellMetadata": {
      "byteLimit": 2048000,
      "rowLimit": 10000
     },
     "inputWidgets": {},
     "nuid": "884ee9d5-e048-42cd-98de-904dc6515749",
     "showTitle": false,
     "tableResultSettingsMap": {},
     "title": ""
    }
   },
   "outputs": [],
   "source": [
    "# Aggregate AQI metrics by year and round them to 2 decimal places\n",
    "aqi_comparison_annual = aqi_comparison.groupBy(\"Year\").agg(avg(\"Max AQI\").alias(\"Max AQI\"), avg(\"90th Percentile AQI\").alias(\"90th Percentile AQI\"), avg(\"Median AQI\").alias(\"Median AQI\")).orderBy(\"Year\")\n",
    "aqi_comparison_annual = aqi_comparison_annual.withColumn(\"Max AQI\", round(\"Max AQI\",2)).withColumn(\"90th Percentile AQI\", round(\"90th Percentile AQI\",2)).withColumn(\"Median AQI\", round(\"Median AQI\",2)).withColumn(\"Year\", aqi_comparison_annual[\"Year\"].cast(IntegerType()))\n",
    "display(aqi_comparison_annual)"
   ]
  },
  {
   "cell_type": "code",
   "execution_count": 0,
   "metadata": {
    "application/vnd.databricks.v1+cell": {
     "cellMetadata": {
      "byteLimit": 2048000,
      "rowLimit": 10000
     },
     "inputWidgets": {},
     "nuid": "e47ce702-319e-404e-95f7-01e2b02fa91f",
     "showTitle": false,
     "tableResultSettingsMap": {
      "0": {
       "dataGridStateBlob": "{\"version\":1,\"tableState\":{\"columnPinning\":{\"left\":[\"#row_number#\"],\"right\":[]},\"columnSizing\":{},\"columnVisibility\":{}},\"settings\":{\"columns\":{}},\"syncTimestamp\":1755641905429}",
       "filterBlob": null,
       "queryPlanFiltersBlob": null,
       "tableResultIndex": 0
      }
     },
     "title": ""
    }
   },
   "outputs": [],
   "source": [
    "# Aggregate pollutant data by year and state, summing up the days for each pollutant and counting the number of counties\n",
    "pollutant = aqi_county_df.groupBy(\"Year\",\"State\").agg(count(\"County\").alias(\"County_Count\"),sum(\"Days CO\").alias(\"CO\"), sum(\"Days NO2\").alias(\"NO2\"), sum(\"Days Ozone\").alias(\"Ozone\"), sum(\"`Days PM2.5`\").alias(\"PM2.5\"), sum(\"Days PM10\").alias(\"PM10\"))\n",
    "display(pollutant)"
   ]
  },
  {
   "cell_type": "code",
   "execution_count": 0,
   "metadata": {
    "application/vnd.databricks.v1+cell": {
     "cellMetadata": {
      "byteLimit": 2048000,
      "rowLimit": 10000
     },
     "inputWidgets": {},
     "nuid": "2d7ece3d-b582-42c7-a577-c1c966ed946b",
     "showTitle": false,
     "tableResultSettingsMap": {
      "0": {
       "dataGridStateBlob": "{\"version\":1,\"tableState\":{\"columnPinning\":{\"left\":[\"#row_number#\"],\"right\":[]},\"columnSizing\":{},\"columnVisibility\":{}},\"settings\":{\"columns\":{}},\"syncTimestamp\":1755643267829}",
       "filterBlob": null,
       "queryPlanFiltersBlob": null,
       "tableResultIndex": 0
      }
     },
     "title": ""
    }
   },
   "outputs": [],
   "source": [
    "#divide by county count and round them to 0 decimal places and finally sort them by year and State Ascending\n",
    "from pyspark.sql.functions import col, round\n",
    "from pyspark.sql.types import IntegerType\n",
    "\n",
    "pollutant_by_state = (\n",
    "    pollutant\n",
    "    .withColumn(\"CO\", col(\"CO\") / col(\"County_Count\"))\n",
    "    .withColumn(\"NO2\", col(\"NO2\") / col(\"County_Count\"))\n",
    "    .withColumn(\"Ozone\", col(\"Ozone\") / col(\"County_Count\"))\n",
    "    .withColumn(\"PM2.5\", col(\"`PM2.5`\") / col(\"County_Count\"))\n",
    "    .withColumn(\"PM10\", col(\"PM10\") / col(\"County_Count\"))\n",
    "    .withColumn(\"CO\", round(col(\"CO\"), 0))\n",
    "    .withColumn(\"NO2\", round(col(\"NO2\"), 0))\n",
    "    .withColumn(\"Ozone\", round(col(\"Ozone\"), 0))\n",
    "    .withColumn(\"PM2.5\", round(col(\"`PM2.5`\"), 0))\n",
    "    .withColumn(\"PM10\", round(col(\"PM10\"), 0))\n",
    "    .withColumn(\"Year\", col(\"Year\").cast(IntegerType()))\n",
    "    .orderBy(\"Year\", \"State\")\n",
    ")\n",
    "display(pollutant_by_state)"
   ]
  },
  {
   "cell_type": "code",
   "execution_count": 0,
   "metadata": {
    "application/vnd.databricks.v1+cell": {
     "cellMetadata": {
      "byteLimit": 2048000,
      "rowLimit": 10000
     },
     "inputWidgets": {},
     "nuid": "a73158ff-5098-41b3-96fd-22018756c7b3",
     "showTitle": false,
     "tableResultSettingsMap": {},
     "title": ""
    }
   },
   "outputs": [],
   "source": [
    "#drop county count\n",
    "pollutant_by_state = pollutant_by_state.drop(\"County_Count\")\n",
    "display(pollutant_by_state)"
   ]
  },
  {
   "cell_type": "code",
   "execution_count": 0,
   "metadata": {
    "application/vnd.databricks.v1+cell": {
     "cellMetadata": {
      "byteLimit": 2048000,
      "rowLimit": 10000
     },
     "inputWidgets": {},
     "nuid": "f59f0d22-182a-4f97-b0ff-eed3c1a076ae",
     "showTitle": false,
     "tableResultSettingsMap": {},
     "title": ""
    }
   },
   "outputs": [
    {
     "output_type": "display_data",
     "data": {
      "text/plain": [
       "Databricks visualization. Run in Databricks to view."
      ]
     },
     "metadata": {
      "application/vnd.databricks.v1.subcommand+json": {
       "baseErrorDetails": null,
       "bindings": {},
       "collapsed": false,
       "command": "%python\n__backend_agg_display_orig = display\n__backend_agg_dfs = []\ndef __backend_agg_display_new(df):\n    __backend_agg_df_modules = [\"pandas.core.frame\", \"databricks.koalas.frame\", \"pyspark.sql.dataframe\", \"pyspark.pandas.frame\", \"pyspark.sql.connect.dataframe\"]\n    if (type(df).__module__ in __backend_agg_df_modules and type(df).__name__ == 'DataFrame') or isinstance(df, list):\n        __backend_agg_dfs.append(df)\n\ndisplay = __backend_agg_display_new\n\ndef __backend_agg_user_code_fn():\n    import base64\n    exec(base64.standard_b64decode(\"ZnJvbSBweXNwYXJrLnNxbC5mdW5jdGlvbnMgaW1wb3J0IGV4cHIKCnBvbGx1dGFudF9jb2x1bW5zID0gWyJDTyIsICJOTzIiLCAiT3pvbmUiLCAiYFBNMi41YCIsICJQTTEwIl0KCnBvbGx1dGFudF9tZWx0ZWQgPSBwb2xsdXRhbnRfYnlfc3RhdGUuc2VsZWN0RXhwcigKICAgICJZZWFyIiwgIlN0YXRlIiwKICAgICJzdGFjayg1LCAnQ08nLCBDTywgJ05PMicsIE5PMiwgJ096b25lJywgT3pvbmUsICdQTTIuNScsIGBQTTIuNWAsICdQTTEwJywgUE0xMCkgYXMgKFBvbGx1dGFudCwgVmFsdWVzKSIKKQpkaXNwbGF5KHBvbGx1dGFudF9tZWx0ZWQp\").decode())\n\ntry:\n    # run user code\n    __backend_agg_user_code_fn()\n\n    #reset display function\n    display = __backend_agg_display_orig\n\n    if len(__backend_agg_dfs) > 0:\n        # create a temp view\n        if type(__backend_agg_dfs[0]).__module__ == \"databricks.koalas.frame\":\n            # koalas dataframe\n            __backend_agg_dfs[0].to_spark().createOrReplaceTempView(\"DatabricksView0beb5a3\")\n        elif type(__backend_agg_dfs[0]).__module__ == \"pandas.core.frame\" or isinstance(__backend_agg_dfs[0], list):\n            # pandas dataframe\n            spark.createDataFrame(__backend_agg_dfs[0]).createOrReplaceTempView(\"DatabricksView0beb5a3\")\n        else:\n            __backend_agg_dfs[0].createOrReplaceTempView(\"DatabricksView0beb5a3\")\n        #run backend agg\n        display(spark.sql(\"\"\"WITH q AS (select * from DatabricksView0beb5a3) SELECT `Pollutant`,SUM(`Values`) `column_1c0a4a5d293`,`Year` FROM q GROUP BY `Pollutant`,`Year`\"\"\"))\n    else:\n        displayHTML(\"dataframe no longer exists. If you're using dataframe.display(), use display(dataframe) instead.\")\n\n\nfinally:\n    spark.sql(\"drop view if exists DatabricksView0beb5a3\")\n    display = __backend_agg_display_orig\n    del __backend_agg_display_new\n    del __backend_agg_display_orig\n    del __backend_agg_dfs\n    del __backend_agg_user_code_fn\n\n",
       "commandTitle": "Contribution of pollutants to Unhealthy days by Year",
       "commandType": "auto",
       "commandVersion": 0,
       "commentThread": [],
       "commentsVisible": false,
       "contentSha256Hex": null,
       "customPlotOptions": {
        "redashChart": [
         {
          "key": "type",
          "value": "CHART"
         },
         {
          "key": "options",
          "value": {
           "alignYAxesAtZero": true,
           "coefficient": 1,
           "columnConfigurationMap": {
            "series": {
             "column": "Year",
             "id": "column_1c0a4a5d295"
            },
            "x": {
             "column": "Pollutant",
             "id": "column_1c0a4a5d291"
            },
            "y": [
             {
              "column": "Values",
              "id": "column_1c0a4a5d293",
              "transform": "SUM"
             }
            ]
           },
           "dateTimeFormat": "DD/MM/YYYY HH:mm",
           "direction": {
            "type": "counterclockwise"
           },
           "error_y": {
            "type": "data",
            "visible": true
           },
           "globalSeriesType": "pie",
           "isAggregationOn": true,
           "legend": {
            "traceorder": "normal"
           },
           "missingValuesAsZero": true,
           "numberFormat": "0,0.[00000]",
           "percentFormat": "0[.]00%",
           "series": {
            "error_y": {
             "type": "data",
             "visible": true
            },
            "stacking": null
           },
           "seriesOptions": {
            "column_1c0a4a5d293": {
             "type": "pie",
             "yAxis": 0
            }
           },
           "showDataLabels": true,
           "sizemode": "diameter",
           "sortX": true,
           "sortY": true,
           "swappedAxes": false,
           "textFormat": "",
           "useAggregationsUi": true,
           "valuesOptions": {},
           "version": 2,
           "xAxis": {
            "labels": {
             "enabled": true
            },
            "type": "-"
           },
           "yAxis": [
            {
             "type": "-"
            },
            {
             "opposite": true,
             "type": "-"
            }
           ]
          }
         }
        ]
       },
       "datasetPreviewNameToCmdIdMap": {},
       "diffDeletes": [],
       "diffInserts": [],
       "displayType": "redashChart",
       "error": null,
       "errorDetails": null,
       "errorSummary": null,
       "errorTraceType": null,
       "finishTime": 0,
       "globalVars": {},
       "guid": "",
       "height": "auto",
       "hideCommandCode": false,
       "hideCommandResult": false,
       "iPythonMetadata": null,
       "inputWidgets": {},
       "isLockedInExamMode": false,
       "latestUser": "a user",
       "latestUserId": null,
       "listResultMetadata": null,
       "metadata": {},
       "nuid": "bd720483-4bb4-4858-9d0b-079367f4b6d7",
       "origId": 0,
       "parentHierarchy": [],
       "pivotAggregation": null,
       "pivotColumns": null,
       "position": 40.75,
       "resultDbfsErrorMessage": null,
       "resultDbfsStatus": "INLINED_IN_TREE",
       "results": null,
       "showCommandTitle": false,
       "startTime": 0,
       "state": "input",
       "streamStates": {},
       "subcommandOptions": {
        "queryPlan": {
         "groups": [
          {
           "column": "Pollutant",
           "type": "column"
          },
          {
           "column": "Year",
           "type": "column"
          }
         ],
         "selects": [
          {
           "column": "Pollutant",
           "type": "column"
          },
          {
           "alias": "column_1c0a4a5d293",
           "args": [
            {
             "column": "Values",
             "type": "column"
            }
           ],
           "function": "SUM",
           "type": "function"
          },
          {
           "column": "Year",
           "type": "column"
          }
         ]
        }
       },
       "submitTime": 0,
       "subtype": "tableResultSubCmd.visualization",
       "tableResultIndex": 0,
       "tableResultSettingsMap": {},
       "useConsistentColors": false,
       "version": "CommandV1",
       "width": "auto",
       "workflows": null,
       "xColumns": null,
       "yColumns": null
      }
     },
     "output_type": "display_data"
    }
   ],
   "source": [
    "from pyspark.sql.functions import expr\n",
    "\n",
    "pollutant_columns = [\"CO\", \"NO2\", \"Ozone\", \"`PM2.5`\", \"PM10\"]\n",
    "\n",
    "# Transform the DataFrame from wide format to long format using the stack function\n",
    "pollutant_melted = pollutant_by_state.selectExpr(\n",
    "    \"Year\", \"State\",\n",
    "    \"stack(5, 'CO', CO, 'NO2', NO2, 'Ozone', Ozone, 'PM2.5', `PM2.5`, 'PM10', PM10) as (Pollutant, Values)\"\n",
    ")\n",
    "display(pollutant_melted)"
   ]
  },
  {
   "cell_type": "code",
   "execution_count": 0,
   "metadata": {
    "application/vnd.databricks.v1+cell": {
     "cellMetadata": {
      "byteLimit": 2048000,
      "rowLimit": 10000
     },
     "inputWidgets": {},
     "nuid": "88625d80-9414-4864-80ad-17116ecaf957",
     "showTitle": false,
     "tableResultSettingsMap": {},
     "title": ""
    }
   },
   "outputs": [],
   "source": [
    "# Save the transformed pollutant data in long format as a table\n",
    "pollutant_melted.write.mode(\"overwrite\").saveAsTable('workspace.2235_team2.pollutant_melted')"
   ]
  },
  {
   "cell_type": "code",
   "execution_count": 0,
   "metadata": {
    "application/vnd.databricks.v1+cell": {
     "cellMetadata": {
      "byteLimit": 2048000,
      "rowLimit": 10000
     },
     "inputWidgets": {},
     "nuid": "e51bb07a-cd92-431a-8b7c-83d495b1f37d",
     "showTitle": false,
     "tableResultSettingsMap": {},
     "title": ""
    }
   },
   "outputs": [],
   "source": [
    "#aggregate by year\n",
    "pollutant_by_year = pollutant_by_state.groupBy(\"Year\").agg(count(\"State\").alias(\"State_Count\"), sum(\"CO\").alias(\"CO\"), sum(\"NO2\").alias(\"NO2\"), sum(\"Ozone\").alias(\"Ozone\"), sum(\"`PM2.5`\").alias(\"PM2.5\"), sum(\"PM10\").alias(\"PM10\")).orderBy(\"Year\")\n",
    "display(pollutant_by_year) "
   ]
  },
  {
   "cell_type": "code",
   "execution_count": 0,
   "metadata": {
    "application/vnd.databricks.v1+cell": {
     "cellMetadata": {
      "byteLimit": 2048000,
      "rowLimit": 10000
     },
     "inputWidgets": {},
     "nuid": "0cb817f3-74ab-4135-b8a6-9734302602a6",
     "showTitle": false,
     "tableResultSettingsMap": {},
     "title": ""
    }
   },
   "outputs": [],
   "source": [
    "#divide by state count and round them to 0 decimal places and finally sort them by year Ascending\n",
    "from pyspark.sql.functions import col, round\n",
    "from pyspark.sql.types import IntegerType\n",
    "\n",
    "pollutant_aqi = (\n",
    "    pollutant_by_year\n",
    "    .withColumn(\"CO\", col(\"CO\") / col(\"State_Count\"))\n",
    "    .withColumn(\"NO2\", col(\"NO2\") / col(\"State_Count\"))\n",
    "    .withColumn(\"Ozone\", col(\"Ozone\") / col(\"State_Count\"))\n",
    "    .withColumn(\"PM2.5\", col(\"`PM2.5`\") / col(\"State_Count\"))\n",
    "    .withColumn(\"PM10\", col(\"PM10\") / col(\"State_Count\"))\n",
    "    .withColumn(\"CO\", round(col(\"CO\"), 0))\n",
    "    .withColumn(\"NO2\", round(col(\"NO2\"), 0))\n",
    "    .withColumn(\"Ozone\", round(col(\"Ozone\"), 0))\n",
    "    .withColumn(\"PM2.5\", round(col(\"`PM2.5`\"), 0))\n",
    "    .withColumn(\"PM10\", round(col(\"PM10\"), 0))\n",
    "    .withColumn(\"Year\", col(\"Year\").cast(IntegerType()))\n",
    "    .orderBy(col(\"Year\").asc())\n",
    ")\n",
    "display(pollutant_aqi)"
   ]
  },
  {
   "cell_type": "code",
   "execution_count": 0,
   "metadata": {
    "application/vnd.databricks.v1+cell": {
     "cellMetadata": {
      "byteLimit": 2048000,
      "rowLimit": 10000
     },
     "inputWidgets": {},
     "nuid": "ef6b99c1-6ec2-4306-b2d6-e1b55135be7d",
     "showTitle": false,
     "tableResultSettingsMap": {},
     "title": ""
    }
   },
   "outputs": [],
   "source": [
    "#drop state count\n",
    "pollutant_aqi = pollutant_aqi.drop(\"State_Count\")\n",
    "display(pollutant_aqi)"
   ]
  },
  {
   "cell_type": "markdown",
   "metadata": {
    "application/vnd.databricks.v1+cell": {
     "cellMetadata": {
      "byteLimit": 2048000,
      "rowLimit": 10000
     },
     "inputWidgets": {},
     "nuid": "d74245be-8ba2-4841-8de0-0c984aaaded3",
     "showTitle": false,
     "tableResultSettingsMap": {},
     "title": ""
    }
   },
   "source": [
    "### B. County-Level Analysis"
   ]
  },
  {
   "cell_type": "code",
   "execution_count": 0,
   "metadata": {
    "application/vnd.databricks.v1+cell": {
     "cellMetadata": {
      "byteLimit": 2048000,
      "rowLimit": 10000
     },
     "inputWidgets": {},
     "nuid": "c10b0d58-fcfc-4c46-ad0b-2f01eb1bfb2b",
     "showTitle": false,
     "tableResultSettingsMap": {
      "0": {
       "dataGridStateBlob": "{\"version\":1,\"tableState\":{\"columnPinning\":{\"left\":[\"#row_number#\"],\"right\":[]},\"columnSizing\":{},\"columnVisibility\":{}},\"settings\":{\"columns\":{}},\"syncTimestamp\":1755699457788}",
       "filterBlob": null,
       "queryPlanFiltersBlob": null,
       "tableResultIndex": 0
      }
     },
     "title": ""
    }
   },
   "outputs": [],
   "source": [
    "#Top 10 counties with most \"Unhealthy for Sensitive Groups Days\", \"Unhealthy Days\" and \"Hazardous days\".\n",
    "#Combining them together not yielding correct top 10\n",
    "county_total = aqi_county_df.groupBy(\"State\",\"County\").agg(sum(\"Unhealthy for Sensitive Groups Days\").alias(\"Unhealthy for Sensitive Groups Days\"), sum(\"Unhealthy Days\").alias(\"Unhealthy Days\"), sum(\"Hazardous Days\").alias(\"Hazardous Days\")).orderBy(col(\"Unhealthy for Sensitive Groups Days\").desc(), col(\"Unhealthy Days\").desc(), col(\"Hazardous Days\").desc()).limit(10)\n",
    "display(county_total)\n"
   ]
  },
  {
   "cell_type": "code",
   "execution_count": 0,
   "metadata": {
    "application/vnd.databricks.v1+cell": {
     "cellMetadata": {
      "byteLimit": 2048000,
      "rowLimit": 10000
     },
     "inputWidgets": {},
     "nuid": "735c5edd-6ede-4a9f-92fe-7acffe240750",
     "showTitle": false,
     "tableResultSettingsMap": {},
     "title": ""
    }
   },
   "outputs": [
    {
     "output_type": "display_data",
     "data": {
      "text/plain": [
       "Databricks visualization. Run in Databricks to view."
      ]
     },
     "metadata": {
      "application/vnd.databricks.v1.subcommand+json": {
       "baseErrorDetails": null,
       "bindings": {},
       "collapsed": false,
       "command": "%python\n__backend_agg_display_orig = display\n__backend_agg_dfs = []\ndef __backend_agg_display_new(df):\n    __backend_agg_df_modules = [\"pandas.core.frame\", \"databricks.koalas.frame\", \"pyspark.sql.dataframe\", \"pyspark.pandas.frame\", \"pyspark.sql.connect.dataframe\"]\n    if (type(df).__module__ in __backend_agg_df_modules and type(df).__name__ == 'DataFrame') or isinstance(df, list):\n        __backend_agg_dfs.append(df)\n\ndisplay = __backend_agg_display_new\n\ndef __backend_agg_user_code_fn():\n    import base64\n    exec(base64.standard_b64decode(\"I1RvcCAxMCBjb3VudGllcyB3aXRoIG1vc3QgIlVuaGVhbHRoeSBmb3IgU2Vuc2l0aXZlIEdyb3VwcyBEYXlzIgpjb3VudHlfdG90YWxfdXNnZCA9IGFxaV9jb3VudHlfZGYuZ3JvdXBCeSgiU3RhdGUiLCJDb3VudHkiKS5hZ2coc3VtKCJVbmhlYWx0aHkgZm9yIFNlbnNpdGl2ZSBHcm91cHMgRGF5cyIpLmFsaWFzKCJVbmhlYWx0aHkgZm9yIFNlbnNpdGl2ZSBHcm91cHMgRGF5cyIpKS5vcmRlckJ5KGNvbCgiVW5oZWFsdGh5IGZvciBTZW5zaXRpdmUgR3JvdXBzIERheXMiKS5kZXNjKCkpLmxpbWl0KDEwKQpkaXNwbGF5KGNvdW50eV90b3RhbF91c2dkKQ==\").decode())\n\ntry:\n    # run user code\n    __backend_agg_user_code_fn()\n\n    #reset display function\n    display = __backend_agg_display_orig\n\n    if len(__backend_agg_dfs) > 0:\n        # create a temp view\n        if type(__backend_agg_dfs[0]).__module__ == \"databricks.koalas.frame\":\n            # koalas dataframe\n            __backend_agg_dfs[0].to_spark().createOrReplaceTempView(\"DatabricksViewc7e9544\")\n        elif type(__backend_agg_dfs[0]).__module__ == \"pandas.core.frame\" or isinstance(__backend_agg_dfs[0], list):\n            # pandas dataframe\n            spark.createDataFrame(__backend_agg_dfs[0]).createOrReplaceTempView(\"DatabricksViewc7e9544\")\n        else:\n            __backend_agg_dfs[0].createOrReplaceTempView(\"DatabricksViewc7e9544\")\n        #run backend agg\n        display(spark.sql(\"\"\"WITH q AS (select * from DatabricksViewc7e9544) SELECT `County`,SUM(`Unhealthy for Sensitive Groups Days`) `column_1c0a4a5d302`,`State` FROM q GROUP BY `County`,`State`\"\"\"))\n    else:\n        displayHTML(\"dataframe no longer exists. If you're using dataframe.display(), use display(dataframe) instead.\")\n\n\nfinally:\n    spark.sql(\"drop view if exists DatabricksViewc7e9544\")\n    display = __backend_agg_display_orig\n    del __backend_agg_display_new\n    del __backend_agg_display_orig\n    del __backend_agg_dfs\n    del __backend_agg_user_code_fn\n\n",
       "commandTitle": "Top 10 Counties for Unhealthy for Sensitive Group",
       "commandType": "auto",
       "commandVersion": 0,
       "commentThread": [],
       "commentsVisible": false,
       "contentSha256Hex": null,
       "customPlotOptions": {
        "redashChart": [
         {
          "key": "type",
          "value": "CHART"
         },
         {
          "key": "options",
          "value": {
           "alignYAxesAtZero": true,
           "coefficient": 1,
           "columnConfigurationMap": {
            "series": {
             "column": "State",
             "id": "column_1c0a4a5d304"
            },
            "x": {
             "column": "County",
             "id": "column_1c0a4a5d300"
            },
            "y": [
             {
              "column": "Unhealthy_for_Sensitive_Groups_Days",
              "id": "column_1c0a4a5d302",
              "transform": "SUM"
             }
            ]
           },
           "dateTimeFormat": "DD/MM/YYYY HH:mm",
           "direction": {
            "type": "counterclockwise"
           },
           "error_y": {
            "type": "data",
            "visible": true
           },
           "globalSeriesType": "column",
           "hideYAxes": false,
           "isAggregationOn": true,
           "legend": {
            "traceorder": "normal"
           },
           "missingValuesAsZero": true,
           "numberFormat": "0,0.[00000]",
           "percentFormat": "0[.]00%",
           "reverseX": false,
           "series": {
            "error_y": {
             "type": "data",
             "visible": true
            },
            "stacking": null
           },
           "seriesOptions": {
            "column_1c0a4a5d302": {
             "type": "column",
             "yAxis": 0
            }
           },
           "showDataLabels": false,
           "sizemode": "diameter",
           "sortX": false,
           "sortY": true,
           "swappedAxes": false,
           "textFormat": "",
           "useAggregationsUi": true,
           "valuesOptions": {},
           "version": 2,
           "xAxis": {
            "labels": {
             "enabled": true
            },
            "type": "-"
           },
           "yAxis": [
            {
             "type": "-"
            },
            {
             "opposite": true,
             "type": "-"
            }
           ]
          }
         }
        ]
       },
       "datasetPreviewNameToCmdIdMap": {},
       "diffDeletes": [],
       "diffInserts": [],
       "displayType": "redashChart",
       "error": null,
       "errorDetails": null,
       "errorSummary": null,
       "errorTraceType": null,
       "finishTime": 0,
       "globalVars": {},
       "guid": "",
       "height": "auto",
       "hideCommandCode": false,
       "hideCommandResult": false,
       "iPythonMetadata": null,
       "inputWidgets": {},
       "isLockedInExamMode": false,
       "latestUser": "a user",
       "latestUserId": null,
       "listResultMetadata": null,
       "metadata": {},
       "nuid": "f1eb0263-dcf4-4da6-bb54-7fbdd83d2bd1",
       "origId": 0,
       "parentHierarchy": [],
       "pivotAggregation": null,
       "pivotColumns": null,
       "position": 45.125,
       "resultDbfsErrorMessage": null,
       "resultDbfsStatus": "INLINED_IN_TREE",
       "results": null,
       "showCommandTitle": false,
       "startTime": 0,
       "state": "input",
       "streamStates": {},
       "subcommandOptions": {
        "queryPlan": {
         "groups": [
          {
           "column": "County",
           "type": "column"
          },
          {
           "column": "State",
           "type": "column"
          }
         ],
         "selects": [
          {
           "column": "County",
           "type": "column"
          },
          {
           "alias": "column_1c0a4a5d302",
           "args": [
            {
             "column": "Unhealthy_for_Sensitive_Groups_Days",
             "type": "column"
            }
           ],
           "function": "SUM",
           "type": "function"
          },
          {
           "column": "State",
           "type": "column"
          }
         ]
        }
       },
       "submitTime": 0,
       "subtype": "tableResultSubCmd.visualization",
       "tableResultIndex": 0,
       "tableResultSettingsMap": {},
       "useConsistentColors": false,
       "version": "CommandV1",
       "width": "auto",
       "workflows": null,
       "xColumns": null,
       "yColumns": null
      }
     },
     "output_type": "display_data"
    }
   ],
   "source": [
    "#Top 10 counties with most \"Unhealthy for Sensitive Groups Days\"\n",
    "county_total_usgd = aqi_county_df.groupBy(\"State\",\"County\").agg(sum(\"Unhealthy for Sensitive Groups Days\").alias(\"Unhealthy_for_Sensitive_Groups_Days\")).orderBy(col(\"Unhealthy_for_Sensitive_Groups_Days\").desc()).limit(10)\n",
    "display(county_total_usgd)"
   ]
  },
  {
   "cell_type": "code",
   "execution_count": 0,
   "metadata": {
    "application/vnd.databricks.v1+cell": {
     "cellMetadata": {
      "byteLimit": 2048000,
      "rowLimit": 10000
     },
     "inputWidgets": {},
     "nuid": "c5c40bb3-7fd0-4aaf-82ec-2e13e09a4510",
     "showTitle": false,
     "tableResultSettingsMap": {},
     "title": ""
    }
   },
   "outputs": [],
   "source": [
    "# Save the top 10 counties with the most \"Unhealthy for Sensitive Groups Days\" as a table\n",
    "county_total_usgd.write.mode(\"overwrite\").saveAsTable('workspace.2235_team2.county_total_usgd')"
   ]
  },
  {
   "cell_type": "code",
   "execution_count": 0,
   "metadata": {
    "application/vnd.databricks.v1+cell": {
     "cellMetadata": {
      "byteLimit": 2048000,
      "rowLimit": 10000
     },
     "inputWidgets": {},
     "nuid": "919871c3-a371-40f8-b6ea-016b0c608b06",
     "showTitle": false,
     "tableResultSettingsMap": {},
     "title": ""
    }
   },
   "outputs": [
    {
     "output_type": "display_data",
     "data": {
      "text/plain": [
       "Databricks visualization. Run in Databricks to view."
      ]
     },
     "metadata": {
      "application/vnd.databricks.v1.subcommand+json": {
       "baseErrorDetails": null,
       "bindings": {},
       "collapsed": false,
       "command": "%python\n__backend_agg_display_orig = display\n__backend_agg_dfs = []\ndef __backend_agg_display_new(df):\n    __backend_agg_df_modules = [\"pandas.core.frame\", \"databricks.koalas.frame\", \"pyspark.sql.dataframe\", \"pyspark.pandas.frame\", \"pyspark.sql.connect.dataframe\"]\n    if (type(df).__module__ in __backend_agg_df_modules and type(df).__name__ == 'DataFrame') or isinstance(df, list):\n        __backend_agg_dfs.append(df)\n\ndisplay = __backend_agg_display_new\n\ndef __backend_agg_user_code_fn():\n    import base64\n    exec(base64.standard_b64decode(\"I1RvcCAxMCBjb3VudGllcyB3aXRoIG1vc3QgICJVbmhlYWx0aHkgRGF5cyIKY291bnR5X3RvdGFsX3VkID0gYXFpX2NvdW50eV9kZi5ncm91cEJ5KCJTdGF0ZSIsIkNvdW50eSIpLmFnZyhzdW0oIlVuaGVhbHRoeSBEYXlzIikuYWxpYXMoIlVuaGVhbHRoeSBEYXlzIikpLm9yZGVyQnkoY29sKCJVbmhlYWx0aHkgRGF5cyIpLmRlc2MoKSkubGltaXQoMTApCmRpc3BsYXkoY291bnR5X3RvdGFsX3VkKQ==\").decode())\n\ntry:\n    # run user code\n    __backend_agg_user_code_fn()\n\n    #reset display function\n    display = __backend_agg_display_orig\n\n    if len(__backend_agg_dfs) > 0:\n        # create a temp view\n        if type(__backend_agg_dfs[0]).__module__ == \"databricks.koalas.frame\":\n            # koalas dataframe\n            __backend_agg_dfs[0].to_spark().createOrReplaceTempView(\"DatabricksView46c40c1\")\n        elif type(__backend_agg_dfs[0]).__module__ == \"pandas.core.frame\" or isinstance(__backend_agg_dfs[0], list):\n            # pandas dataframe\n            spark.createDataFrame(__backend_agg_dfs[0]).createOrReplaceTempView(\"DatabricksView46c40c1\")\n        else:\n            __backend_agg_dfs[0].createOrReplaceTempView(\"DatabricksView46c40c1\")\n        #run backend agg\n        display(spark.sql(\"\"\"WITH q AS (select * from DatabricksView46c40c1) SELECT `State`,`County`,SUM(`Unhealthy Days`) `column_1c0a4a5d310` FROM q GROUP BY `County`,`State`\"\"\"))\n    else:\n        displayHTML(\"dataframe no longer exists. If you're using dataframe.display(), use display(dataframe) instead.\")\n\n\nfinally:\n    spark.sql(\"drop view if exists DatabricksView46c40c1\")\n    display = __backend_agg_display_orig\n    del __backend_agg_display_new\n    del __backend_agg_display_orig\n    del __backend_agg_dfs\n    del __backend_agg_user_code_fn\n\n",
       "commandTitle": "Top 10 Counties by Unhealthy Days",
       "commandType": "auto",
       "commandVersion": 0,
       "commentThread": [],
       "commentsVisible": false,
       "contentSha256Hex": null,
       "customPlotOptions": {
        "redashChart": [
         {
          "key": "type",
          "value": "CHART"
         },
         {
          "key": "options",
          "value": {
           "alignYAxesAtZero": true,
           "coefficient": 1,
           "columnConfigurationMap": {
            "series": {
             "column": "County",
             "id": "column_1c0a4a5d309"
            },
            "x": {
             "column": "State",
             "id": "column_1c0a4a5d308"
            },
            "y": [
             {
              "column": "Unhealthy_Days",
              "id": "column_1c0a4a5d310",
              "transform": "SUM"
             }
            ]
           },
           "dateTimeFormat": "DD/MM/YYYY HH:mm",
           "direction": {
            "type": "counterclockwise"
           },
           "error_y": {
            "type": "data",
            "visible": true
           },
           "globalSeriesType": "column",
           "isAggregationOn": true,
           "legend": {
            "traceorder": "normal"
           },
           "missingValuesAsZero": true,
           "numberFormat": "0,0.[00000]",
           "percentFormat": "0[.]00%",
           "series": {
            "error_y": {
             "type": "data",
             "visible": true
            },
            "stacking": "stack"
           },
           "seriesOptions": {
            "column_1c0a4a5d310": {
             "name": "Unhealthy Days",
             "type": "column",
             "yAxis": 0
            }
           },
           "showDataLabels": false,
           "sizemode": "diameter",
           "sortX": false,
           "sortY": true,
           "swappedAxes": true,
           "textFormat": "",
           "useAggregationsUi": true,
           "valuesOptions": {},
           "version": 2,
           "xAxis": {
            "labels": {
             "enabled": true
            },
            "type": "-"
           },
           "yAxis": [
            {
             "type": "-"
            },
            {
             "opposite": true,
             "type": "-"
            }
           ]
          }
         }
        ]
       },
       "datasetPreviewNameToCmdIdMap": {},
       "diffDeletes": [],
       "diffInserts": [],
       "displayType": "redashChart",
       "error": null,
       "errorDetails": null,
       "errorSummary": null,
       "errorTraceType": null,
       "finishTime": 0,
       "globalVars": {},
       "guid": "",
       "height": "auto",
       "hideCommandCode": false,
       "hideCommandResult": false,
       "iPythonMetadata": null,
       "inputWidgets": {},
       "isLockedInExamMode": false,
       "latestUser": "a user",
       "latestUserId": null,
       "listResultMetadata": null,
       "metadata": {},
       "nuid": "cdd87c9e-7a4c-41e0-ba0d-520e3658eaee",
       "origId": 0,
       "parentHierarchy": [],
       "pivotAggregation": null,
       "pivotColumns": null,
       "position": 46.125,
       "resultDbfsErrorMessage": null,
       "resultDbfsStatus": "INLINED_IN_TREE",
       "results": null,
       "showCommandTitle": false,
       "startTime": 0,
       "state": "input",
       "streamStates": {},
       "subcommandOptions": {
        "queryPlan": {
         "groups": [
          {
           "column": "State",
           "type": "column"
          },
          {
           "column": "County",
           "type": "column"
          }
         ],
         "selects": [
          {
           "column": "State",
           "type": "column"
          },
          {
           "column": "County",
           "type": "column"
          },
          {
           "alias": "column_1c0a4a5d310",
           "args": [
            {
             "column": "Unhealthy_Days",
             "type": "column"
            }
           ],
           "function": "SUM",
           "type": "function"
          }
         ]
        }
       },
       "submitTime": 0,
       "subtype": "tableResultSubCmd.visualization",
       "tableResultIndex": 0,
       "tableResultSettingsMap": {},
       "useConsistentColors": false,
       "version": "CommandV1",
       "width": "auto",
       "workflows": null,
       "xColumns": null,
       "yColumns": null
      }
     },
     "output_type": "display_data"
    }
   ],
   "source": [
    "#Top 10 counties with most  \"Unhealthy Days\"\n",
    "county_total_ud = aqi_county_df.groupBy(\"State\",\"County\").agg(sum(\"Unhealthy Days\").alias(\"Unhealthy_Days\")).orderBy(col(\"Unhealthy_Days\").desc()).limit(10)\n",
    "display(county_total_ud)"
   ]
  },
  {
   "cell_type": "code",
   "execution_count": 0,
   "metadata": {
    "application/vnd.databricks.v1+cell": {
     "cellMetadata": {
      "byteLimit": 2048000,
      "rowLimit": 10000
     },
     "inputWidgets": {},
     "nuid": "3689e59b-ed10-4cf4-9cf4-9102ee4b0b36",
     "showTitle": false,
     "tableResultSettingsMap": {},
     "title": ""
    }
   },
   "outputs": [],
   "source": [
    "# Save the top 10 counties with the most \"Unhealthy Days\" as a table\n",
    "county_total_ud.write.mode(\"overwrite\").saveAsTable('workspace.2235_team2.county_total_ud')"
   ]
  },
  {
   "cell_type": "code",
   "execution_count": 0,
   "metadata": {
    "application/vnd.databricks.v1+cell": {
     "cellMetadata": {
      "byteLimit": 2048000,
      "rowLimit": 10000
     },
     "inputWidgets": {},
     "nuid": "2496e532-1722-4624-9710-1a48bb041195",
     "showTitle": false,
     "tableResultSettingsMap": {},
     "title": ""
    }
   },
   "outputs": [
    {
     "output_type": "display_data",
     "data": {
      "text/plain": [
       "Databricks visualization. Run in Databricks to view."
      ]
     },
     "metadata": {
      "application/vnd.databricks.v1.subcommand+json": {
       "baseErrorDetails": null,
       "bindings": {},
       "collapsed": false,
       "command": "%python\n__backend_agg_display_orig = display\n__backend_agg_dfs = []\ndef __backend_agg_display_new(df):\n    __backend_agg_df_modules = [\"pandas.core.frame\", \"databricks.koalas.frame\", \"pyspark.sql.dataframe\", \"pyspark.pandas.frame\", \"pyspark.sql.connect.dataframe\"]\n    if (type(df).__module__ in __backend_agg_df_modules and type(df).__name__ == 'DataFrame') or isinstance(df, list):\n        __backend_agg_dfs.append(df)\n\ndisplay = __backend_agg_display_new\n\ndef __backend_agg_user_code_fn():\n    import base64\n    exec(base64.standard_b64decode(\"I1RvcCAxMCBjb3VudGllcyB3aXRoIG1vc3QgIkhhemFyZG91cyBkYXlzIi4KY291bnR5X3RvdGFsX2hkID0gYXFpX2NvdW50eV9kZi5ncm91cEJ5KCJTdGF0ZSIsIkNvdW50eSIpLmFnZyhzdW0oIkhhemFyZG91cyBEYXlzIikuYWxpYXMoIkhhemFyZG91cyBEYXlzIikpLm9yZGVyQnkoY29sKCJIYXphcmRvdXMgRGF5cyIpLmRlc2MoKSkubGltaXQoMTApCmRpc3BsYXkoY291bnR5X3RvdGFsX2hkKQ==\").decode())\n\ntry:\n    # run user code\n    __backend_agg_user_code_fn()\n\n    #reset display function\n    display = __backend_agg_display_orig\n\n    if len(__backend_agg_dfs) > 0:\n        # create a temp view\n        if type(__backend_agg_dfs[0]).__module__ == \"databricks.koalas.frame\":\n            # koalas dataframe\n            __backend_agg_dfs[0].to_spark().createOrReplaceTempView(\"DatabricksViewf214d72\")\n        elif type(__backend_agg_dfs[0]).__module__ == \"pandas.core.frame\" or isinstance(__backend_agg_dfs[0], list):\n            # pandas dataframe\n            spark.createDataFrame(__backend_agg_dfs[0]).createOrReplaceTempView(\"DatabricksViewf214d72\")\n        else:\n            __backend_agg_dfs[0].createOrReplaceTempView(\"DatabricksViewf214d72\")\n        #run backend agg\n        display(spark.sql(\"\"\"WITH q AS (select * from DatabricksViewf214d72) SELECT `State`,`County`,SUM(`Hazardous Days`) `column_1c0a4a5d314` FROM q GROUP BY `County`,`State`\"\"\"))\n    else:\n        displayHTML(\"dataframe no longer exists. If you're using dataframe.display(), use display(dataframe) instead.\")\n\n\nfinally:\n    spark.sql(\"drop view if exists DatabricksViewf214d72\")\n    display = __backend_agg_display_orig\n    del __backend_agg_display_new\n    del __backend_agg_display_orig\n    del __backend_agg_dfs\n    del __backend_agg_user_code_fn\n\n",
       "commandTitle": "Top 10 Counties by Hazardous Days",
       "commandType": "auto",
       "commandVersion": 0,
       "commentThread": [],
       "commentsVisible": false,
       "contentSha256Hex": null,
       "customPlotOptions": {
        "redashChart": [
         {
          "key": "type",
          "value": "CHART"
         },
         {
          "key": "options",
          "value": {
           "alignYAxesAtZero": true,
           "coefficient": 1,
           "columnConfigurationMap": {
            "series": {
             "column": "County",
             "id": "column_1c0a4a5d313"
            },
            "x": {
             "column": "State",
             "id": "column_1c0a4a5d312"
            },
            "y": [
             {
              "column": "Hazardous_Days",
              "id": "column_1c0a4a5d314",
              "transform": "SUM"
             }
            ]
           },
           "dateTimeFormat": "DD/MM/YYYY HH:mm",
           "direction": {
            "type": "counterclockwise"
           },
           "error_y": {
            "type": "data",
            "visible": true
           },
           "globalSeriesType": "column",
           "isAggregationOn": true,
           "legend": {
            "traceorder": "normal"
           },
           "missingValuesAsZero": true,
           "numberFormat": "0,0.[00000]",
           "percentFormat": "0[.]00%",
           "series": {
            "error_y": {
             "type": "data",
             "visible": true
            },
            "stacking": "stack"
           },
           "seriesOptions": {
            "column_1c0a4a5d314": {
             "name": "Hazardous Days",
             "type": "column",
             "yAxis": 0
            }
           },
           "showDataLabels": false,
           "sizemode": "diameter",
           "sortX": false,
           "sortY": true,
           "swappedAxes": true,
           "textFormat": "",
           "useAggregationsUi": true,
           "valuesOptions": {},
           "version": 2,
           "xAxis": {
            "labels": {
             "enabled": true
            },
            "type": "-"
           },
           "yAxis": [
            {
             "type": "-"
            },
            {
             "opposite": true,
             "type": "-"
            }
           ]
          }
         }
        ]
       },
       "datasetPreviewNameToCmdIdMap": {},
       "diffDeletes": [],
       "diffInserts": [],
       "displayType": "redashChart",
       "error": null,
       "errorDetails": null,
       "errorSummary": null,
       "errorTraceType": null,
       "finishTime": 0,
       "globalVars": {},
       "guid": "",
       "height": "auto",
       "hideCommandCode": false,
       "hideCommandResult": false,
       "iPythonMetadata": null,
       "inputWidgets": {},
       "isLockedInExamMode": false,
       "latestUser": "a user",
       "latestUserId": null,
       "listResultMetadata": null,
       "metadata": {},
       "nuid": "408a8274-5643-4ad6-8eda-af78334b6b9e",
       "origId": 0,
       "parentHierarchy": [],
       "pivotAggregation": null,
       "pivotColumns": null,
       "position": 47.125,
       "resultDbfsErrorMessage": null,
       "resultDbfsStatus": "INLINED_IN_TREE",
       "results": null,
       "showCommandTitle": false,
       "startTime": 0,
       "state": "input",
       "streamStates": {},
       "subcommandOptions": {
        "queryPlan": {
         "groups": [
          {
           "column": "State",
           "type": "column"
          },
          {
           "column": "County",
           "type": "column"
          }
         ],
         "selects": [
          {
           "column": "State",
           "type": "column"
          },
          {
           "column": "County",
           "type": "column"
          },
          {
           "alias": "column_1c0a4a5d314",
           "args": [
            {
             "column": "Hazardous_Days",
             "type": "column"
            }
           ],
           "function": "SUM",
           "type": "function"
          }
         ]
        }
       },
       "submitTime": 0,
       "subtype": "tableResultSubCmd.visualization",
       "tableResultIndex": 0,
       "tableResultSettingsMap": {},
       "useConsistentColors": false,
       "version": "CommandV1",
       "width": "auto",
       "workflows": null,
       "xColumns": null,
       "yColumns": null
      }
     },
     "output_type": "display_data"
    }
   ],
   "source": [
    "#Top 10 counties with most \"Hazardous days\".\n",
    "county_total_hd = aqi_county_df.groupBy(\"State\",\"County\").agg(sum(\"Hazardous Days\").alias(\"Hazardous_Days\")).orderBy(col(\"Hazardous_Days\").desc()).limit(10)\n",
    "display(county_total_hd)"
   ]
  },
  {
   "cell_type": "code",
   "execution_count": 0,
   "metadata": {
    "application/vnd.databricks.v1+cell": {
     "cellMetadata": {
      "byteLimit": 2048000,
      "rowLimit": 10000
     },
     "inputWidgets": {},
     "nuid": "bdfbb285-0463-4c5a-b034-8e6d0dd025d1",
     "showTitle": false,
     "tableResultSettingsMap": {},
     "title": ""
    }
   },
   "outputs": [],
   "source": [
    "# Save the top 10 counties with the most \"Hazardous Days\" as a table\n",
    "county_total_hd.write.mode(\"overwrite\").saveAsTable('workspace.2235_team2.county_total_hd')"
   ]
  },
  {
   "cell_type": "code",
   "execution_count": 0,
   "metadata": {
    "application/vnd.databricks.v1+cell": {
     "cellMetadata": {
      "byteLimit": 2048000,
      "rowLimit": 10000
     },
     "inputWidgets": {},
     "nuid": "cebb4093-73b0-448d-846c-56a5b9c77d92",
     "showTitle": false,
     "tableResultSettingsMap": {},
     "title": ""
    }
   },
   "outputs": [
    {
     "output_type": "display_data",
     "data": {
      "text/plain": [
       "Databricks visualization. Run in Databricks to view."
      ]
     },
     "metadata": {
      "application/vnd.databricks.v1.subcommand+json": {
       "baseErrorDetails": null,
       "bindings": {},
       "collapsed": false,
       "command": "%python\n__backend_agg_display_orig = display\n__backend_agg_dfs = []\ndef __backend_agg_display_new(df):\n    __backend_agg_df_modules = [\"pandas.core.frame\", \"databricks.koalas.frame\", \"pyspark.sql.dataframe\", \"pyspark.pandas.frame\", \"pyspark.sql.connect.dataframe\"]\n    if (type(df).__module__ in __backend_agg_df_modules and type(df).__name__ == 'DataFrame') or isinstance(df, list):\n        __backend_agg_dfs.append(df)\n\ndisplay = __backend_agg_display_new\n\ndef __backend_agg_user_code_fn():\n    import base64\n    exec(base64.standard_b64decode(\"I1N0YXRlLXdpc2UgQ29tcGFyaXNvbiBvZiBBbGwgaXRzIENvdW50aWVzIGJhc2VkIG9uICJVbmhlYWx0aHkgZm9yIFNlbnNpdGl2ZSBHcm91cHMiLCAiVW5oZWFsdGh5IiBhbmQgIkhhemFyZG91cyIgZGF5cy4KZnJvbSBweXNwYXJrLnNxbC53aW5kb3cgaW1wb3J0IFdpbmRvdwoKIyBBZ2dyZWdhdGUgYnkgc3RhdGUgYW5kIGNvdW50eQpzdGF0ZV9jb3VudHkgPSBhcWlfY291bnR5X2RmLmdyb3VwQnkoIlN0YXRlIiwgIkNvdW50eSIpIFwKICAgIC5hZ2coCiAgICAgICAgc3VtKCJVbmhlYWx0aHkgZm9yIFNlbnNpdGl2ZSBHcm91cHMgRGF5cyIpLmFsaWFzKCJUb3RhbF9VbmhlYWx0aHlfU2Vuc2l0aXZlIiksCiAgICAgICAgc3VtKCJVbmhlYWx0aHkgRGF5cyIpLmFsaWFzKCJUb3RhbF9VbmhlYWx0aHkiKSwKICAgICAgICBzdW0oIkhhemFyZG91cyBEYXlzIikuYWxpYXMoIlRvdGFsX0hhemFyZG91cyIpCiAgICApCgojIFJhbmsgY291bnRpZXMgd2l0aGluIGVhY2ggc3RhdGUgZm9yIGVhY2ggY2F0ZWdvcnkKd2luZG93X3NwZWMgPSBXaW5kb3cucGFydGl0aW9uQnkoIlN0YXRlIikub3JkZXJCeShkZXNjKCJUb3RhbF9VbmhlYWx0aHlfU2Vuc2l0aXZlIikpCnN0YXRlX2NvdW50eSA9IHN0YXRlX2NvdW50eS53aXRoQ29sdW1uKCJSYW5rX1VuaGVhbHRoeV9TZW5zaXRpdmUiLHJhbmsoKS5vdmVyKHdpbmRvd19zcGVjKSkKCndpbmRvd19zcGVjMiA9IFdpbmRvdy5wYXJ0aXRpb25CeSgiU3RhdGUiKS5vcmRlckJ5KGRlc2MoIlRvdGFsX1VuaGVhbHRoeSIpKQpzdGF0ZV9jb3VudHkgPSBzdGF0ZV9jb3VudHkud2l0aENvbHVtbigiUmFua19VbmhlYWx0aHkiLHJhbmsoKS5vdmVyKHdpbmRvd19zcGVjMikpCgp3aW5kb3dfc3BlYzMgPSBXaW5kb3cucGFydGl0aW9uQnkoIlN0YXRlIikub3JkZXJCeShkZXNjKCJUb3RhbF9IYXphcmRvdXMiKSkKc3RhdGVfY291bnR5ID0gc3RhdGVfY291bnR5LndpdGhDb2x1bW4oIlJhbmtfSGF6YXJkb3VzIixyYW5rKCkub3Zlcih3aW5kb3dfc3BlYzMpKQoKI09yZGVyIHN0YXRlX2NvdW50eSBieSBTdGF0ZSBmb2xsb3dlZCBieSBSYW5rIG9mIGVhY2ggY2F0ZWdvcnkKc3RhdGVfY291bnR5ID0gc3RhdGVfY291bnR5Lm9yZGVyQnkoIlN0YXRlIiwgIlJhbmtfVW5oZWFsdGh5X1NlbnNpdGl2ZSIsICJSYW5rX1VuaGVhbHRoeSIsICJSYW5rX0hhemFyZG91cyIpCmRpc3BsYXkoc3RhdGVfY291bnR5KQo=\").decode())\n\ntry:\n    # run user code\n    __backend_agg_user_code_fn()\n\n    #reset display function\n    display = __backend_agg_display_orig\n\n    if len(__backend_agg_dfs) > 0:\n        # create a temp view\n        if type(__backend_agg_dfs[0]).__module__ == \"databricks.koalas.frame\":\n            # koalas dataframe\n            __backend_agg_dfs[0].to_spark().createOrReplaceTempView(\"DatabricksViewca888b2\")\n        elif type(__backend_agg_dfs[0]).__module__ == \"pandas.core.frame\" or isinstance(__backend_agg_dfs[0], list):\n            # pandas dataframe\n            spark.createDataFrame(__backend_agg_dfs[0]).createOrReplaceTempView(\"DatabricksViewca888b2\")\n        else:\n            __backend_agg_dfs[0].createOrReplaceTempView(\"DatabricksViewca888b2\")\n        #run backend agg\n        display(spark.sql(\"\"\"WITH q AS (select * from DatabricksViewca888b2) SELECT `County`,`Total_Unhealthy_Sensitive`,`State` FROM q\"\"\"))\n    else:\n        displayHTML(\"dataframe no longer exists. If you're using dataframe.display(), use display(dataframe) instead.\")\n\n\nfinally:\n    spark.sql(\"drop view if exists DatabricksViewca888b2\")\n    display = __backend_agg_display_orig\n    del __backend_agg_display_new\n    del __backend_agg_display_orig\n    del __backend_agg_dfs\n    del __backend_agg_user_code_fn\n\n",
       "commandTitle": "Total Unhealthy Sensitive",
       "commandType": "auto",
       "commandVersion": 0,
       "commentThread": [],
       "commentsVisible": false,
       "contentSha256Hex": null,
       "customPlotOptions": {
        "redashChart": [
         {
          "key": "type",
          "value": "CHART"
         },
         {
          "key": "options",
          "value": {
           "alignYAxesAtZero": true,
           "coefficient": 1,
           "columnConfigurationMap": {
            "series": {
             "column": "State",
             "id": "column_1c0a4a5d329"
            },
            "x": {
             "column": "County",
             "id": "column_1c0a4a5d336"
            },
            "y": [
             {
              "column": "Total_Unhealthy_Sensitive",
              "id": "column_1c0a4a5d337"
             }
            ]
           },
           "dateTimeFormat": "DD/MM/YYYY HH:mm",
           "direction": {
            "type": "counterclockwise"
           },
           "error_y": {
            "type": "data",
            "visible": true
           },
           "globalSeriesType": "scatter",
           "legend": {
            "traceorder": "normal"
           },
           "missingValuesAsZero": true,
           "numberFormat": "0,0.[00000]",
           "percentFormat": "0[.]00%",
           "series": {
            "error_y": {
             "type": "data",
             "visible": true
            },
            "stacking": null
           },
           "seriesOptions": {
            "County": {
             "type": "scatter",
             "yAxis": 0
            },
            "State": {
             "type": "scatter",
             "yAxis": 0
            },
            "Total_Unhealthy_Sensitive": {
             "type": "scatter",
             "yAxis": 0
            }
           },
           "showDataLabels": false,
           "sizemode": "diameter",
           "sortX": true,
           "sortY": true,
           "swappedAxes": false,
           "textFormat": "",
           "useAggregationsUi": true,
           "valuesOptions": {},
           "version": 2,
           "xAxis": {
            "labels": {
             "enabled": true
            },
            "type": "-"
           },
           "yAxis": [
            {
             "type": "-"
            },
            {
             "opposite": true,
             "type": "-"
            }
           ]
          }
         }
        ]
       },
       "datasetPreviewNameToCmdIdMap": {},
       "diffDeletes": [],
       "diffInserts": [],
       "displayType": "redashChart",
       "error": null,
       "errorDetails": null,
       "errorSummary": null,
       "errorTraceType": null,
       "finishTime": 0,
       "globalVars": {},
       "guid": "",
       "height": "auto",
       "hideCommandCode": false,
       "hideCommandResult": false,
       "iPythonMetadata": null,
       "inputWidgets": {},
       "isLockedInExamMode": false,
       "latestUser": "a user",
       "latestUserId": null,
       "listResultMetadata": null,
       "metadata": {},
       "nuid": "f74e1feb-a976-4031-8c83-52b415efe05a",
       "origId": 0,
       "parentHierarchy": [],
       "pivotAggregation": null,
       "pivotColumns": null,
       "position": 48.125,
       "resultDbfsErrorMessage": null,
       "resultDbfsStatus": "INLINED_IN_TREE",
       "results": null,
       "showCommandTitle": false,
       "startTime": 0,
       "state": "input",
       "streamStates": {},
       "subcommandOptions": {
        "queryPlan": {
         "selects": [
          {
           "column": "County",
           "type": "column"
          },
          {
           "column": "Total_Unhealthy_Sensitive",
           "type": "column"
          },
          {
           "column": "State",
           "type": "column"
          }
         ]
        }
       },
       "submitTime": 0,
       "subtype": "tableResultSubCmd.visualization",
       "tableResultIndex": 0,
       "tableResultSettingsMap": {},
       "useConsistentColors": false,
       "version": "CommandV1",
       "width": "auto",
       "workflows": null,
       "xColumns": null,
       "yColumns": null
      }
     },
     "output_type": "display_data"
    }
   ],
   "source": [
    "#State-wise Comparison of All its Counties based on \"Unhealthy for Sensitive Groups\", \"Unhealthy\" and \"Hazardous\" days.\n",
    "from pyspark.sql.window import Window\n",
    "\n",
    "# Aggregate by state and county\n",
    "state_county = aqi_county_df.groupBy(\"State\", \"County\") \\\n",
    "    .agg(\n",
    "        sum(\"Unhealthy for Sensitive Groups Days\").alias(\"Total_Unhealthy_Sensitive\"),\n",
    "        sum(\"Unhealthy Days\").alias(\"Total_Unhealthy\"),\n",
    "        sum(\"Hazardous Days\").alias(\"Total_Hazardous\")\n",
    "    )\n",
    "\n",
    "# Rank counties within each state for each category\n",
    "window_spec = Window.partitionBy(\"State\").orderBy(desc(\"Total_Unhealthy_Sensitive\"))\n",
    "state_county = state_county.withColumn(\"Rank_Unhealthy_Sensitive\",rank().over(window_spec))\n",
    "\n",
    "window_spec2 = Window.partitionBy(\"State\").orderBy(desc(\"Total_Unhealthy\"))\n",
    "state_county = state_county.withColumn(\"Rank_Unhealthy\",rank().over(window_spec2))\n",
    "\n",
    "window_spec3 = Window.partitionBy(\"State\").orderBy(desc(\"Total_Hazardous\"))\n",
    "state_county = state_county.withColumn(\"Rank_Hazardous\",rank().over(window_spec3))\n",
    "\n",
    "#Order state_county by State followed by Rank of each category\n",
    "state_county = state_county.orderBy(\"State\", \"Rank_Unhealthy_Sensitive\", \"Rank_Unhealthy\", \"Rank_Hazardous\")\n",
    "display(state_county)\n"
   ]
  },
  {
   "cell_type": "code",
   "execution_count": 0,
   "metadata": {
    "application/vnd.databricks.v1+cell": {
     "cellMetadata": {
      "byteLimit": 2048000,
      "rowLimit": 10000
     },
     "inputWidgets": {},
     "nuid": "e0f09df4-da0e-46b0-8918-d63872f7047f",
     "showTitle": false,
     "tableResultSettingsMap": {},
     "title": ""
    }
   },
   "outputs": [],
   "source": [
    "# Save the state-wise comparison of all its counties based on \"Unhealthy for Sensitive Groups\", \"Unhealthy\" and \"Hazardous\" days as a table\n",
    "state_county.write.mode(\"overwrite\").saveAsTable('workspace.2235_team2.state_county')"
   ]
  },
  {
   "cell_type": "code",
   "execution_count": 0,
   "metadata": {
    "application/vnd.databricks.v1+cell": {
     "cellMetadata": {
      "byteLimit": 2048000,
      "rowLimit": 10000
     },
     "inputWidgets": {},
     "nuid": "ba3169ca-482d-44c9-982c-26a2ef78c016",
     "showTitle": false,
     "tableResultSettingsMap": {},
     "title": ""
    }
   },
   "outputs": [],
   "source": [
    "# Display for a specific state, e.g., 'CA'\n",
    "state_county.filter(col(\"State\") == \"California\").display()"
   ]
  },
  {
   "cell_type": "code",
   "execution_count": 0,
   "metadata": {
    "application/vnd.databricks.v1+cell": {
     "cellMetadata": {
      "byteLimit": 2048000,
      "rowLimit": 10000
     },
     "inputWidgets": {},
     "nuid": "1dac9159-7c97-469c-a675-86e5e5d9a4b4",
     "showTitle": false,
     "tableResultSettingsMap": {
      "0": {
       "dataGridStateBlob": "{\"version\":1,\"tableState\":{\"columnPinning\":{\"left\":[\"#row_number#\"],\"right\":[]},\"columnSizing\":{},\"columnVisibility\":{}},\"settings\":{\"columns\":{}},\"syncTimestamp\":1755708668339}",
       "filterBlob": null,
       "queryPlanFiltersBlob": null,
       "tableResultIndex": 0
      }
     },
     "title": ""
    }
   },
   "outputs": [
    {
     "output_type": "display_data",
     "data": {
      "text/plain": [
       "Databricks visualization. Run in Databricks to view."
      ]
     },
     "metadata": {
      "application/vnd.databricks.v1.subcommand+json": {
       "baseErrorDetails": null,
       "bindings": {},
       "collapsed": false,
       "command": "%python\n__backend_agg_display_orig = display\n__backend_agg_dfs = []\ndef __backend_agg_display_new(df):\n    __backend_agg_df_modules = [\"pandas.core.frame\", \"databricks.koalas.frame\", \"pyspark.sql.dataframe\", \"pyspark.pandas.frame\", \"pyspark.sql.connect.dataframe\"]\n    if (type(df).__module__ in __backend_agg_df_modules and type(df).__name__ == 'DataFrame') or isinstance(df, list):\n        __backend_agg_dfs.append(df)\n\ndisplay = __backend_agg_display_new\n\ndef __backend_agg_user_code_fn():\n    import base64\n    exec(base64.standard_b64decode(\"CnBvbGx1dGFudF9jb3VudHlfeWVhciA9IGFxaV9jb3VudHlfZGYuZ3JvdXBCeSgiWWVhciIsIkNvdW50eSIpLmFnZyhzdW0oIkRheXMgQ08iKS5hbGlhcygiQ08iKSwgc3VtKCJEYXlzIE5PMiIpLmFsaWFzKCJOTzIiKSwgc3VtKCJEYXlzIE96b25lIikuYWxpYXMoIk96b25lIiksIHN1bSgiYERheXMgUE0yLjVgIikuYWxpYXMoIlBNMi41IiksIHN1bSgiRGF5cyBQTTEwIikuYWxpYXMoIlBNMTAiKSkKCgojIFJhbmsgY291bnRpZXMgd2l0aGluIGVhY2ggc3RhdGUgZm9yIGVhY2ggY2F0ZWdvcnkKd2luZG93X3NwZWM0ID0gV2luZG93LnBhcnRpdGlvbkJ5KCJZZWFyIikub3JkZXJCeShkZXNjKCJDTyIpKQpwb2xsdXRhbnRfY291bnR5X3llYXIgPSBwb2xsdXRhbnRfY291bnR5X3llYXIud2l0aENvbHVtbigiUmFua19DTyIscmFuaygpLm92ZXIod2luZG93X3NwZWM0KSkKCndpbmRvd19zcGVjNSA9IFdpbmRvdy5wYXJ0aXRpb25CeSgiWWVhciIpLm9yZGVyQnkoZGVzYygiTk8yIikpCnBvbGx1dGFudF9jb3VudHlfeWVhciA9IHBvbGx1dGFudF9jb3VudHlfeWVhci53aXRoQ29sdW1uKCJSYW5rX05PMiIscmFuaygpLm92ZXIod2luZG93X3NwZWM1KSkKCndpbmRvd19zcGVjNiA9IFdpbmRvdy5wYXJ0aXRpb25CeSgiWWVhciIpLm9yZGVyQnkoZGVzYygiT3pvbmUiKSkKcG9sbHV0YW50X2NvdW50eV95ZWFyID0gcG9sbHV0YW50X2NvdW50eV95ZWFyLndpdGhDb2x1bW4oIlJhbmtfT3pvbmUiLHJhbmsoKS5vdmVyKHdpbmRvd19zcGVjNikpCgp3aW5kb3dfc3BlYzcgPSBXaW5kb3cucGFydGl0aW9uQnkoIlllYXIiKS5vcmRlckJ5KGRlc2MoImBQTTIuNWAiKSkKcG9sbHV0YW50X2NvdW50eV95ZWFyID0gcG9sbHV0YW50X2NvdW50eV95ZWFyLndpdGhDb2x1bW4oIlJhbmtfUE0yLjUiLHJhbmsoKS5vdmVyKHdpbmRvd19zcGVjNykpCgp3aW5kb3dfc3BlYzggPSBXaW5kb3cucGFydGl0aW9uQnkoIlllYXIiKS5vcmRlckJ5KGRlc2MoIlBNMTAiKSkKcG9sbHV0YW50X2NvdW50eV95ZWFyID0gcG9sbHV0YW50X2NvdW50eV95ZWFyLndpdGhDb2x1bW4oIlJhbmtfUE0xMCIscmFuaygpLm92ZXIod2luZG93X3NwZWM4KSkKCiNPcmRlciBwb2xsdXRhbnRfY291bnR5IGJ5IFllYXIgZm9sbG93ZWQgYnkgUmFuayBvZiBlYWNoIGNhdGVnb3J5CnBvbGx1dGFudF9jb3VudHlfeWVhciA9IHBvbGx1dGFudF9jb3VudHlfeWVhci5vcmRlckJ5KCJZZWFyIiwgIlJhbmtfQ08iLCAiUmFua19OTzIiLCAiUmFua19Pem9uZSIsICJSYW5rX1BNMTAiKQpkaXNwbGF5KHBvbGx1dGFudF9jb3VudHlfeWVhcik=\").decode())\n\ntry:\n    # run user code\n    __backend_agg_user_code_fn()\n\n    #reset display function\n    display = __backend_agg_display_orig\n\n    if len(__backend_agg_dfs) > 0:\n        # create a temp view\n        if type(__backend_agg_dfs[0]).__module__ == \"databricks.koalas.frame\":\n            # koalas dataframe\n            __backend_agg_dfs[0].to_spark().createOrReplaceTempView(\"DatabricksViewdb5b1c2\")\n        elif type(__backend_agg_dfs[0]).__module__ == \"pandas.core.frame\" or isinstance(__backend_agg_dfs[0], list):\n            # pandas dataframe\n            spark.createDataFrame(__backend_agg_dfs[0]).createOrReplaceTempView(\"DatabricksViewdb5b1c2\")\n        else:\n            __backend_agg_dfs[0].createOrReplaceTempView(\"DatabricksViewdb5b1c2\")\n        #run backend agg\n        display(spark.sql(\"\"\"WITH q AS (select * from DatabricksViewdb5b1c2) SELECT `Ozone`,`County` FROM q\"\"\"))\n    else:\n        displayHTML(\"dataframe no longer exists. If you're using dataframe.display(), use display(dataframe) instead.\")\n\n\nfinally:\n    spark.sql(\"drop view if exists DatabricksViewdb5b1c2\")\n    display = __backend_agg_display_orig\n    del __backend_agg_display_new\n    del __backend_agg_display_orig\n    del __backend_agg_dfs\n    del __backend_agg_user_code_fn\n\n",
       "commandTitle": "Distribution of Ozone across Counties",
       "commandType": "auto",
       "commandVersion": 0,
       "commentThread": [],
       "commentsVisible": false,
       "contentSha256Hex": null,
       "customPlotOptions": {
        "redashChart": [
         {
          "key": "type",
          "value": "CHART"
         },
         {
          "key": "options",
          "value": {
           "alignYAxesAtZero": true,
           "coefficient": 1,
           "columnConfigurationMap": {
            "series": {
             "column": "County",
             "id": "column_1c0a4a5d347"
            },
            "y": [
             {
              "column": "Ozone",
              "id": "column_1c0a4a5d344"
             }
            ]
           },
           "dateTimeFormat": "DD/MM/YYYY HH:mm",
           "direction": {
            "type": "counterclockwise"
           },
           "error_y": {
            "type": "data",
            "visible": true
           },
           "globalSeriesType": "box",
           "legend": {
            "traceorder": "normal"
           },
           "missingValuesAsZero": true,
           "numberFormat": "0,0.[00000]",
           "percentFormat": "0[.]00%",
           "series": {
            "error_y": {
             "type": "data",
             "visible": true
            },
            "stacking": null
           },
           "seriesOptions": {
            "County": {
             "type": "box",
             "yAxis": 0
            },
            "Ozone": {
             "type": "box",
             "yAxis": 0
            },
            "Year": {
             "type": "box",
             "yAxis": 0
            }
           },
           "showDataLabels": false,
           "sizemode": "diameter",
           "sortX": true,
           "sortY": true,
           "swappedAxes": false,
           "textFormat": "",
           "useAggregationsUi": true,
           "valuesOptions": {},
           "version": 2,
           "xAxis": {
            "labels": {
             "enabled": true
            },
            "type": "-"
           },
           "yAxis": [
            {
             "type": "-"
            },
            {
             "opposite": true,
             "type": "-"
            }
           ]
          }
         }
        ]
       },
       "datasetPreviewNameToCmdIdMap": {},
       "diffDeletes": [],
       "diffInserts": [],
       "displayType": "redashChart",
       "error": null,
       "errorDetails": null,
       "errorSummary": null,
       "errorTraceType": null,
       "finishTime": 0,
       "globalVars": {},
       "guid": "",
       "height": "auto",
       "hideCommandCode": false,
       "hideCommandResult": false,
       "iPythonMetadata": null,
       "inputWidgets": {},
       "isLockedInExamMode": false,
       "latestUser": "a user",
       "latestUserId": null,
       "listResultMetadata": null,
       "metadata": {},
       "nuid": "74fddc32-444e-49d0-b13b-f73768aea1ac",
       "origId": 0,
       "parentHierarchy": [],
       "pivotAggregation": null,
       "pivotColumns": null,
       "position": 50.125,
       "resultDbfsErrorMessage": null,
       "resultDbfsStatus": "INLINED_IN_TREE",
       "results": null,
       "showCommandTitle": false,
       "startTime": 0,
       "state": "input",
       "streamStates": {},
       "subcommandOptions": {
        "queryPlan": {
         "selects": [
          {
           "column": "Ozone",
           "type": "column"
          },
          {
           "column": "County",
           "type": "column"
          }
         ]
        }
       },
       "submitTime": 0,
       "subtype": "tableResultSubCmd.visualization",
       "tableResultIndex": 0,
       "tableResultSettingsMap": {},
       "useConsistentColors": false,
       "version": "CommandV1",
       "width": "auto",
       "workflows": null,
       "xColumns": null,
       "yColumns": null
      }
     },
     "output_type": "display_data"
    }
   ],
   "source": [
    "# Aggregate pollutant days by year and county\n",
    "pollutant_county_year = aqi_county_df.groupBy(\"Year\",\"County\").agg(sum(\"Days CO\").alias(\"CO\"), sum(\"Days NO2\").alias(\"NO2\"), sum(\"Days Ozone\").alias(\"Ozone\"), sum(\"`Days PM2.5`\").alias(\"PM2.5\"), sum(\"Days PM10\").alias(\"PM10\"))\n",
    "\n",
    "# Rank counties within each year for each pollutant category\n",
    "window_spec4 = Window.partitionBy(\"Year\").orderBy(desc(\"CO\"))\n",
    "pollutant_county_year = pollutant_county_year.withColumn(\"Rank_CO\",rank().over(window_spec4))\n",
    "\n",
    "window_spec5 = Window.partitionBy(\"Year\").orderBy(desc(\"NO2\"))\n",
    "pollutant_county_year = pollutant_county_year.withColumn(\"Rank_NO2\",rank().over(window_spec5))\n",
    "\n",
    "window_spec6 = Window.partitionBy(\"Year\").orderBy(desc(\"Ozone\"))\n",
    "pollutant_county_year = pollutant_county_year.withColumn(\"Rank_Ozone\",rank().over(window_spec6))\n",
    "\n",
    "window_spec7 = Window.partitionBy(\"Year\").orderBy(desc(\"`PM2.5`\"))\n",
    "pollutant_county_year = pollutant_county_year.withColumn(\"Rank_PM2.5\",rank().over(window_spec7))\n",
    "\n",
    "window_spec8 = Window.partitionBy(\"Year\").orderBy(desc(\"PM10\"))\n",
    "pollutant_county_year = pollutant_county_year.withColumn(\"Rank_PM10\",rank().over(window_spec8))\n",
    "\n",
    "# Order pollutant_county by Year followed by Rank of each category\n",
    "pollutant_county_year = pollutant_county_year.orderBy(\"Year\", \"Rank_CO\", \"Rank_NO2\", \"Rank_Ozone\", \"Rank_PM10\")\n",
    "display(pollutant_county_year)"
   ]
  },
  {
   "cell_type": "code",
   "execution_count": 0,
   "metadata": {
    "application/vnd.databricks.v1+cell": {
     "cellMetadata": {
      "byteLimit": 2048000,
      "rowLimit": 10000
     },
     "inputWidgets": {},
     "nuid": "f26b60c1-7a9b-4d70-83b7-b260a4ee4309",
     "showTitle": false,
     "tableResultSettingsMap": {},
     "title": ""
    }
   },
   "outputs": [],
   "source": [
    "pollutant_county_year.write.mode(\"overwrite\").saveAsTable('workspace.2235_team2.pollutant_county_year')"
   ]
  }
 ],
 "metadata": {
  "application/vnd.databricks.v1+notebook": {
   "computePreferences": null,
   "dashboards": [
    {
     "elements": [
      {
       "dashboardResultIndex": null,
       "elementNUID": "d4f60351-3a8a-40ab-9b06-b9b1e6da9db6",
       "elementType": "command",
       "guid": "33cfccd4-ccd3-4b5f-844e-871017098fe0",
       "options": null,
       "position": {
        "height": 6,
        "width": 12,
        "x": 0,
        "y": 0,
        "z": null
       },
       "resultIndex": null
      }
     ],
     "globalVars": {},
     "guid": "",
     "layoutOption": {
      "grid": true,
      "stack": true
     },
     "nuid": "f48f76bb-cef5-4b9f-9b8e-75a027781273",
     "origId": 8342720592891698,
     "title": "DBRX_Team2_GV",
     "version": "DashboardViewV1",
     "width": 1024
    }
   ],
   "environmentMetadata": {
    "base_environment": "",
    "environment_version": "2"
   },
   "inputWidgetPreferences": null,
   "language": "python",
   "notebookMetadata": {
    "pythonIndentUnit": 4
   },
   "notebookName": "DBRX_Team2_Vignesh",
   "widgets": {}
  },
  "language_info": {
   "name": "python"
  }
 },
 "nbformat": 4,
 "nbformat_minor": 0
}
