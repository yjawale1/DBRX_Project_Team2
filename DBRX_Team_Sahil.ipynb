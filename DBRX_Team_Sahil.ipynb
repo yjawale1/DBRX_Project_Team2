{
 "cells": [
  {
   "cell_type": "markdown",
   "metadata": {
    "application/vnd.databricks.v1+cell": {
     "cellMetadata": {},
     "inputWidgets": {},
     "nuid": "eb85acee-4804-4a8e-999d-962f6ebd7a6f",
     "showTitle": false,
     "tableResultSettingsMap": {},
     "title": ""
    }
   },
   "source": [
    "# Load and Combine CBSA Annual AQI Data (2020-2024) into a Single DataFrame\n",
    "Read and merge AQI data for each year from 2020 to 2024 into one consolidated DataFrame for analysis."
   ]
  },
  {
   "cell_type": "code",
   "execution_count": 0,
   "metadata": {
    "application/vnd.databricks.v1+cell": {
     "cellMetadata": {
      "byteLimit": 2048000,
      "rowLimit": 10000
     },
     "inputWidgets": {},
     "nuid": "75117212-91cc-4662-8f57-b5e2f8241fc4",
     "showTitle": false,
     "tableResultSettingsMap": {},
     "title": ""
    }
   },
   "outputs": [],
   "source": [
    "#df for C - Sahil\n",
    "aqi_cbsa_df_2020 = spark.read.csv(\"/Volumes/workspace/2235_team2/aqi/annual_aqi_by_cbsa_2020.csv\", header=True, inferSchema=True)\n",
    "aqi_cbsa_df_2021 = spark.read.csv(\"/Volumes/workspace/2235_team2/aqi/annual_aqi_by_cbsa_2021.csv\", header=True, inferSchema=True)\n",
    "aqi_cbsa_df_2022 = spark.read.csv(\"/Volumes/workspace/2235_team2/aqi/annual_aqi_by_cbsa_2022.csv\", header=True, inferSchema=True)\n",
    "aqi_cbsa_df_2023 = spark.read.csv(\"/Volumes/workspace/2235_team2/aqi/annual_aqi_by_cbsa_2023.csv\", header=True, inferSchema=True)\n",
    "aqi_cbsa_df_2024 = spark.read.csv(\"/Volumes/workspace/2235_team2/aqi/annual_aqi_by_cbsa_2024.csv\", header=True, inferSchema=True)\n",
    "\n",
    "aqi_cbsa_df = aqi_cbsa_df_2020.union(aqi_cbsa_df_2021).union(aqi_cbsa_df_2022).union(aqi_cbsa_df_2023).union(aqi_cbsa_df_2024)\n",
    "#aqi_cbsa_df.show(2)\n",
    "display(aqi_cbsa_df)\n",
    "aqi_cbsa_df.count()"
   ]
  },
  {
   "cell_type": "markdown",
   "metadata": {
    "application/vnd.databricks.v1+cell": {
     "cellMetadata": {},
     "inputWidgets": {},
     "nuid": "ddbb0e4c-d9e4-4dab-a3e6-db4c1a1d9e19",
     "showTitle": false,
     "tableResultSettingsMap": {},
     "title": ""
    }
   },
   "source": [
    "# Identify Top 10 CBSAs with Most \"Unhealthy for Sensitive Groups Days\"\n",
    "This section groups the consolidated AQI data by CBSA, calculates the total number of \"Unhealthy for Sensitive Groups Days\" for each CBSA, and displays the top 10 CBSAs with the highest totals. The results are saved as a table for further analysis."
   ]
  },
  {
   "cell_type": "code",
   "execution_count": 0,
   "metadata": {
    "application/vnd.databricks.v1+cell": {
     "cellMetadata": {
      "byteLimit": 2048000,
      "rowLimit": 10000
     },
     "inputWidgets": {},
     "nuid": "a879e349-a483-49f8-8c64-8b0ac0122588",
     "showTitle": false,
     "tableResultSettingsMap": {},
     "title": ""
    }
   },
   "outputs": [],
   "source": [
    "from pyspark.sql.functions import col, sum as _sum\n",
    "\n",
    "# C1: Top 10 CBSAs with most \"Unhealthy for Sensitive Groups Days\"\n",
    "top10_ufsg_df = aqi_cbsa_df.groupBy(\"CBSA\").agg(\n",
    "    _sum(\"Unhealthy for Sensitive Groups Days\").alias(\"Total_Unhealthy_for_Sensitive_Groups_Days\")\n",
    ").orderBy(col(\"Total_Unhealthy_for_Sensitive_Groups_Days\").desc()).limit(10)\n",
    "\n",
    "display(top10_ufsg_df)\n",
    "top10_ufsg_df.write.mode(\"overwrite\").saveAsTable('workspace.2235_team2.top10_ufsg_df_C1')"
   ]
  },
  {
   "cell_type": "markdown",
   "metadata": {
    "application/vnd.databricks.v1+cell": {
     "cellMetadata": {},
     "inputWidgets": {},
     "nuid": "666bcaf6-da4e-445d-8010-7342196200af",
     "showTitle": false,
     "tableResultSettingsMap": {},
     "title": ""
    }
   },
   "source": [
    "# Identify Top 10 CBSAs with Most \"Unhealthy Days\"\n",
    "This section groups the AQI data by CBSA, calculates the total number of \"Unhealthy Days\" for each CBSA, and selects the top 10 CBSAs with the highest totals. The results are saved as a table for further analysis."
   ]
  },
  {
   "cell_type": "code",
   "execution_count": 0,
   "metadata": {
    "application/vnd.databricks.v1+cell": {
     "cellMetadata": {
      "byteLimit": 2048000,
      "rowLimit": 10000
     },
     "inputWidgets": {},
     "nuid": "c2e297eb-40a3-4160-9720-825a593af155",
     "showTitle": false,
     "tableResultSettingsMap": {},
     "title": ""
    }
   },
   "outputs": [],
   "source": [
    "# C1: Top 10 CBSAs with most \"Unhealthy Days\"\n",
    "top10_unhealthy_df = aqi_cbsa_df.groupBy(\"CBSA\").agg(\n",
    "    _sum(\"Unhealthy Days\").alias(\"Total_Unhealthy_Days\")\n",
    ").orderBy(col(\"Total_Unhealthy_Days\").desc()).limit(10)\n",
    "#display(top10_unhealthy_df)\n",
    "top10_unhealthy_df.write.mode(\"overwrite\").saveAsTable('workspace.2235_team2.top10_unhealthy_df_C1')"
   ]
  },
  {
   "cell_type": "markdown",
   "metadata": {
    "application/vnd.databricks.v1+cell": {
     "cellMetadata": {},
     "inputWidgets": {},
     "nuid": "4e492c03-2d76-4eae-ac9b-4b0c2e81cbac",
     "showTitle": false,
     "tableResultSettingsMap": {},
     "title": ""
    }
   },
   "source": [
    "# Identify Top 10 CBSAs with Most \"Hazardous Days\"\n",
    "This section groups the AQI data by CBSA, calculates the total number of \"Hazardous Days\" for each CBSA, and selects the top 10 CBSAs with the highest totals. The results are saved as a table for further analysis."
   ]
  },
  {
   "cell_type": "code",
   "execution_count": 0,
   "metadata": {
    "application/vnd.databricks.v1+cell": {
     "cellMetadata": {
      "byteLimit": 2048000,
      "rowLimit": 10000
     },
     "inputWidgets": {},
     "nuid": "35b0ab06-6633-4e1d-b088-0b872335bbe3",
     "showTitle": false,
     "tableResultSettingsMap": {},
     "title": ""
    }
   },
   "outputs": [],
   "source": [
    "# C1.Top 10 CBSAs with most \"Hazardous Days\"\n",
    "top10_hazardous_df = aqi_cbsa_df.groupBy(\"CBSA\").agg(\n",
    "    _sum(\"Hazardous Days\").alias(\"Total_Hazardous_Days\")\n",
    ").orderBy(col(\"Total_Hazardous_Days\").desc()).limit(10)\n",
    "#display(top10_hazardous_df)\n",
    "top10_hazardous_df.write.mode(\"overwrite\").saveAsTable('workspace.2235_team2.top10_hazardous_df_C1')"
   ]
  },
  {
   "cell_type": "markdown",
   "metadata": {
    "application/vnd.databricks.v1+cell": {
     "cellMetadata": {},
     "inputWidgets": {},
     "nuid": "fbf90894-969e-40f8-8afc-74d266b97acc",
     "showTitle": false,
     "tableResultSettingsMap": {},
     "title": ""
    }
   },
   "source": [
    "# Analyze Yearly Trends of Unhealthy and Hazardous Days by CBSA\n",
    "This section groups the AQI data by CBSA and year, calculating annual totals for \"Unhealthy for Sensitive Groups Days,\" \"Unhealthy Days,\" and \"Hazardous Days.\" The results are ordered by CBSA and year, and saved as a table for trend analysis."
   ]
  },
  {
   "cell_type": "code",
   "execution_count": 0,
   "metadata": {
    "application/vnd.databricks.v1+cell": {
     "cellMetadata": {
      "byteLimit": 2048000,
      "rowLimit": 10000
     },
     "inputWidgets": {},
     "nuid": "acf82a1f-0e5a-49e5-8fa4-d75cac40509b",
     "showTitle": false,
     "tableResultSettingsMap": {},
     "title": ""
    }
   },
   "outputs": [],
   "source": [
    "#C2\n",
    "trend_df_cbsa = aqi_cbsa_df.groupBy(\"CBSA\", \"Year\").agg(\n",
    "    _sum(\"Unhealthy for Sensitive Groups Days\").alias(\"Total_Unhealthy_for_Sensitive_Groups_Days\"),\n",
    "    _sum(\"Unhealthy Days\").alias(\"Total_Unhealthy_Days\"),\n",
    "    _sum(\"Hazardous Days\").alias(\"Total_Hazardous_Days\")\n",
    ").orderBy(\"CBSA\", \"Year\")\n",
    "#display(trend_df_cbsa)\n",
    "trend_df_cbsa.write.mode(\"overwrite\").saveAsTable('workspace.2235_team2.trend_df_cbsa_C2')"
   ]
  },
  {
   "cell_type": "markdown",
   "metadata": {
    "application/vnd.databricks.v1+cell": {
     "cellMetadata": {},
     "inputWidgets": {},
     "nuid": "1a02e75b-15d3-4e24-877f-77c85236ae02",
     "showTitle": false,
     "tableResultSettingsMap": {},
     "title": ""
    }
   },
   "source": [
    "# Join AQI Data with CBSA Type Information\n",
    "This section reads CBSA type information from a separate file and performs a left join with the AQI data, enriching each record with its corresponding CBSA type(Macro vs Micro). The resulting DataFrame is used for further analysis and is not written to a table."
   ]
  },
  {
   "cell_type": "code",
   "execution_count": 0,
   "metadata": {
    "application/vnd.databricks.v1+cell": {
     "cellMetadata": {
      "byteLimit": 2048000,
      "rowLimit": 10000
     },
     "inputWidgets": {},
     "nuid": "5624f311-6896-478b-ae2b-6a8477175b86",
     "showTitle": false,
     "tableResultSettingsMap": {},
     "title": ""
    }
   },
   "outputs": [],
   "source": [
    "#C3#Do not write this section to table\n",
    "cbsas_path = \"/Volumes/workspace/2235_team2/aqi/cbsas.csv\"\n",
    "cbsas_df = spark.read.csv(cbsas_path, header=True, inferSchema=True)\n",
    "#display(cbsas_df)\n",
    "\n",
    "aqi__cbsa_with_type_df = aqi_cbsa_df.join(\n",
    "    cbsas_df.select(col(\"CBSA Code\").alias(\"CBSA_Code\"), \"CBSA Type\"),\n",
    "    aqi_cbsa_df[\"CBSA Code\"] == col(\"CBSA_Code\"),\n",
    "    \"left\"\n",
    ")\n",
    "#display(aqi__cbsa_with_type_df)"
   ]
  },
  {
   "cell_type": "markdown",
   "metadata": {
    "application/vnd.databricks.v1+cell": {
     "cellMetadata": {},
     "inputWidgets": {},
     "nuid": "f5b2ddbc-ec35-423e-898b-7c0b1bf13e66",
     "showTitle": false,
     "tableResultSettingsMap": {},
     "title": ""
    }
   },
   "source": [
    "# Analyze Yearly AQI Trends by CBSA Type\n",
    "This section groups the AQI data by year and CBSA type, calculating both the sum and average of \"Unhealthy for Sensitive Groups Days,\" \"Unhealthy Days,\" and \"Hazardous Days\" for each group. The results are ordered by year and CBSA type, and saved as a table for further analysis."
   ]
  },
  {
   "cell_type": "code",
   "execution_count": 0,
   "metadata": {
    "application/vnd.databricks.v1+cell": {
     "cellMetadata": {
      "byteLimit": 2048000,
      "rowLimit": 10000
     },
     "inputWidgets": {},
     "nuid": "2a03289e-162a-4fb7-b58a-b1a752d92b53",
     "showTitle": false,
     "tableResultSettingsMap": {},
     "title": ""
    }
   },
   "outputs": [],
   "source": [
    "#C3\n",
    "from pyspark.sql.functions import sum as _sum, avg\n",
    "\n",
    "aqi__cbsa_metromicro_trend_df = aqi__cbsa_with_type_df \\\n",
    "    .withColumnRenamed(\"CBSA Type\", \"CBSA_Type\") \\\n",
    "    .groupBy(\"Year\", \"CBSA_Type\").agg(\n",
    "        _sum(\"Unhealthy for Sensitive Groups Days\").alias(\"Sum_Unhealthy_for_Sensitive_Groups_Days\"),\n",
    "        avg(\"Unhealthy for Sensitive Groups Days\").alias(\"Avg_Unhealthy_for_Sensitive_Groups_Days\"),\n",
    "        _sum(\"Unhealthy Days\").alias(\"Sum_Unhealthy_Days\"),\n",
    "        avg(\"Unhealthy Days\").alias(\"Avg_Unhealthy_Days\"),\n",
    "        _sum(\"Hazardous Days\").alias(\"Sum_Hazardous_Days\"),\n",
    "        avg(\"Hazardous Days\").alias(\"Avg_Hazardous_Days\")\n",
    "    ).orderBy(\"Year\", \"CBSA_Type\")\n",
    "#display(aqi__cbsa_metromicro_trend_df)\n",
    "aqi__cbsa_metromicro_trend_df.write.mode(\"overwrite\").saveAsTable('workspace.2235_team2.aqi__cbsa_metromicro_trend_df_C3')"
   ]
  },
  {
   "cell_type": "markdown",
   "metadata": {
    "application/vnd.databricks.v1+cell": {
     "cellMetadata": {},
     "inputWidgets": {},
     "nuid": "ca5baa7f-93bd-4471-84b7-54049406dd95",
     "showTitle": false,
     "tableResultSettingsMap": {},
     "title": ""
    }
   },
   "source": [
    "# Summarize Pollutant Days Distribution by CBSA Type\n",
    "This section groups the AQI data by CBSA type and calculates both the sum and average number of days for each major pollutant (CO, NO₂, Ozone, PM2.5, and PM10). The results provide a distribution overview by CBSA type and are saved as a table for further analysis."
   ]
  },
  {
   "cell_type": "code",
   "execution_count": 0,
   "metadata": {
    "application/vnd.databricks.v1+cell": {
     "cellMetadata": {
      "byteLimit": 2048000,
      "rowLimit": 10000
     },
     "inputWidgets": {},
     "nuid": "d79a827b-9b5d-49eb-83e1-3a9f40e74958",
     "showTitle": false,
     "tableResultSettingsMap": {},
     "title": ""
    }
   },
   "outputs": [],
   "source": [
    "#C4\n",
    "\n",
    "from pyspark.sql.functions import sum as _sum, avg\n",
    "\n",
    "aqi__cbsa_pollutant_dist_df = aqi__cbsa_with_type_df.withColumnRenamed(\"CBSA Type\", \"CBSA_Type\").groupBy(\"CBSA_Type\").agg(\n",
    "    _sum(\"Days CO\").alias(\"Sum_Days_CO\"),\n",
    "    avg(\"Days CO\").alias(\"Avg_Days_CO\"),\n",
    "    _sum(\"Days NO2\").alias(\"Sum_Days_NO2\"),\n",
    "    avg(\"Days NO2\").alias(\"Avg_Days_NO2\"),\n",
    "    _sum(\"Days Ozone\").alias(\"Sum_Days_Ozone\"),\n",
    "    avg(\"Days Ozone\").alias(\"Avg_Days_Ozone\"),\n",
    "    _sum(\"`Days PM2.5`\").alias(\"Sum_Days_PM2_5\"),\n",
    "    avg(\"`Days PM2.5`\").alias(\"Avg_Days_PM2_5\"),\n",
    "    _sum(\"Days PM10\").alias(\"Sum_Days_PM10\"),\n",
    "    avg(\"Days PM10\").alias(\"Avg_Days_PM10\")\n",
    ")\n",
    "#display(aqi__cbsa_pollutant_dist_df)\n",
    "aqi__cbsa_pollutant_dist_df.write.mode(\"overwrite\").saveAsTable('workspace.2235_team2.aqi__cbsa_pollutant_dist_df_C4')"
   ]
  },
  {
   "cell_type": "markdown",
   "metadata": {
    "application/vnd.databricks.v1+cell": {
     "cellMetadata": {},
     "inputWidgets": {},
     "nuid": "f3d95896-95b4-43b6-b11e-a3c819cdb1fb",
     "showTitle": false,
     "tableResultSettingsMap": {},
     "title": ""
    }
   },
   "source": [
    "# Analyze Yearly Pollutant Days Trends by CBSA Type\n",
    "This section groups the AQI data by year and CBSA type, calculating both the sum and average number of days for each major pollutant (CO, NO₂, Ozone, PM2.5, and PM10). The results show yearly trends in pollutant days distribution by CBSA type and are saved as a table for further analysis."
   ]
  },
  {
   "cell_type": "code",
   "execution_count": 0,
   "metadata": {
    "application/vnd.databricks.v1+cell": {
     "cellMetadata": {
      "byteLimit": 2048000,
      "rowLimit": 10000
     },
     "inputWidgets": {},
     "nuid": "01f5c7ed-77e9-4b85-bd44-d96d160f60e5",
     "showTitle": false,
     "tableResultSettingsMap": {},
     "title": ""
    }
   },
   "outputs": [],
   "source": [
    "#C4\n",
    "aqi__cbsa_pollutant_trend_dist_df = aqi__cbsa_with_type_df.withColumnRenamed(\"CBSA Type\", \"CBSA_Type\").groupBy(\"Year\", \"CBSA_Type\").agg(\n",
    "    _sum(\"Days CO\").alias(\"Sum_Days_CO\"),\n",
    "    avg(\"Days CO\").alias(\"Avg_Days_CO\"),\n",
    "    _sum(\"Days NO2\").alias(\"Sum_Days_NO2\"),\n",
    "    avg(\"Days NO2\").alias(\"Avg_Days_NO2\"),\n",
    "    _sum(\"Days Ozone\").alias(\"Sum_Days_Ozone\"),\n",
    "    avg(\"Days Ozone\").alias(\"Avg_Days_Ozone\"),\n",
    "    _sum(\"`Days PM2.5`\").alias(\"Sum_Days_PM2_5\"),\n",
    "    avg(\"`Days PM2.5`\").alias(\"Avg_Days_PM2_5\"),\n",
    "    _sum(\"Days PM10\").alias(\"Sum_Days_PM10\"),\n",
    "    avg(\"Days PM10\").alias(\"Avg_Days_PM10\")\n",
    ")\n",
    "#display(aqi__cbsa_pollutant_trend_dist_df)\n",
    "aqi__cbsa_pollutant_trend_dist_df.write.mode(\"overwrite\").saveAsTable('workspace.2235_team2.aqi__cbsa_pollutant_trend_dist_df_C4')"
   ]
  }
 ],
 "metadata": {
  "application/vnd.databricks.v1+notebook": {
   "computePreferences": null,
   "dashboards": [],
   "environmentMetadata": {
    "base_environment": "",
    "environment_version": "2"
   },
   "inputWidgetPreferences": null,
   "language": "python",
   "notebookMetadata": {
    "pythonIndentUnit": 4
   },
   "notebookName": "DBRX_Team_Sahil",
   "widgets": {}
  },
  "language_info": {
   "name": "python"
  }
 },
 "nbformat": 4,
 "nbformat_minor": 0
}
