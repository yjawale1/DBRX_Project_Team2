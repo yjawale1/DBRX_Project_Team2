{
 "cells": [
  {
   "cell_type": "code",
   "execution_count": 0,
   "metadata": {
    "application/vnd.databricks.v1+cell": {
     "cellMetadata": {
      "byteLimit": 2048000,
      "rowLimit": 10000
     },
     "inputWidgets": {},
     "nuid": "1567a2ee-d31f-4566-bd36-ad3a0a097e52",
     "showTitle": false,
     "tableResultSettingsMap": {},
     "title": ""
    }
   },
   "outputs": [],
   "source": [
    "#Team 2 Notebook First Commit #\n",
    "#Commit 2\n",
    "aqi_county_df_2020 = spark.read.csv(\"/Volumes/workspace/2235_team2/aqi/annual_aqi_by_county_2020.csv\", header=True, inferSchema=True)\n",
    "aqi_county_df_2020.show(5)"
   ]
  },
  {
   "cell_type": "code",
   "execution_count": 0,
   "metadata": {
    "application/vnd.databricks.v1+cell": {
     "cellMetadata": {
      "byteLimit": 2048000,
      "rowLimit": 10000
     },
     "inputWidgets": {},
     "nuid": "164ba3ad-bcd0-4357-9271-5d0d4a01ac90",
     "showTitle": false,
     "tableResultSettingsMap": {},
     "title": ""
    }
   },
   "outputs": [],
   "source": [
    "aqi_county_df_2021 = spark.read.csv(\"/Volumes/workspace/2235_team2/aqi/annual_aqi_by_county_2021.csv\", header=True, inferSchema=True)\n",
    "aqi_county_df_2021.show(5)"
   ]
  },
  {
   "cell_type": "code",
   "execution_count": 0,
   "metadata": {
    "application/vnd.databricks.v1+cell": {
     "cellMetadata": {
      "byteLimit": 2048000,
      "rowLimit": 10000
     },
     "inputWidgets": {},
     "nuid": "65ab29c2-c6d1-4aa4-a25a-0151080c3909",
     "showTitle": false,
     "tableResultSettingsMap": {},
     "title": ""
    }
   },
   "outputs": [],
   "source": [
    "aqi_county_df_2020.printSchema()"
   ]
  },
  {
   "cell_type": "code",
   "execution_count": 0,
   "metadata": {
    "application/vnd.databricks.v1+cell": {
     "cellMetadata": {
      "byteLimit": 2048000,
      "rowLimit": 10000
     },
     "inputWidgets": {},
     "nuid": "1b07aee3-a147-4bb2-bf35-f3fe1dff0550",
     "showTitle": false,
     "tableResultSettingsMap": {},
     "title": ""
    }
   },
   "outputs": [],
   "source": [
    "aqi_county_df_2021.printSchema()"
   ]
  },
  {
   "cell_type": "code",
   "execution_count": 0,
   "metadata": {
    "application/vnd.databricks.v1+cell": {
     "cellMetadata": {
      "byteLimit": 2048000,
      "rowLimit": 10000
     },
     "inputWidgets": {},
     "nuid": "d1382315-ec9a-4c88-be24-244b64501e1f",
     "showTitle": false,
     "tableResultSettingsMap": {},
     "title": ""
    }
   },
   "outputs": [],
   "source": [
    "aqi_county_df_2022 = spark.read.csv(\"/Volumes/workspace/2235_team2/aqi/annual_aqi_by_county_2022.csv\", header=True, inferSchema=True)\n",
    "aqi_county_df_2023 = spark.read.csv(\"/Volumes/workspace/2235_team2/aqi/annual_aqi_by_county_2023.csv\", header=True, inferSchema=True)\n",
    "aqi_county_df_2024 = spark.read.csv(\"/Volumes/workspace/2235_team2/aqi/annual_aqi_by_county_2024.csv\", header=True, inferSchema=True)\n",
    "aqi_county_df_2022.show(5)"
   ]
  },
  {
   "cell_type": "code",
   "execution_count": 0,
   "metadata": {
    "application/vnd.databricks.v1+cell": {
     "cellMetadata": {
      "byteLimit": 2048000,
      "rowLimit": 10000
     },
     "inputWidgets": {},
     "nuid": "009afef6-759e-4274-9d20-7b5b442900d8",
     "showTitle": false,
     "tableResultSettingsMap": {},
     "title": ""
    }
   },
   "outputs": [],
   "source": [
    "aqi_county_df_2023.show(5)"
   ]
  },
  {
   "cell_type": "code",
   "execution_count": 0,
   "metadata": {
    "application/vnd.databricks.v1+cell": {
     "cellMetadata": {
      "byteLimit": 2048000,
      "rowLimit": 10000
     },
     "inputWidgets": {},
     "nuid": "d1200f0a-5996-4f73-83cf-2130018ce0db",
     "showTitle": false,
     "tableResultSettingsMap": {},
     "title": ""
    }
   },
   "outputs": [],
   "source": [
    "aqi_county_df_2024.count()"
   ]
  },
  {
   "cell_type": "code",
   "execution_count": 0,
   "metadata": {
    "application/vnd.databricks.v1+cell": {
     "cellMetadata": {
      "byteLimit": 2048000,
      "rowLimit": 10000
     },
     "inputWidgets": {},
     "nuid": "25cd95ad-1684-49d6-a06b-3a48fef0dd34",
     "showTitle": false,
     "tableResultSettingsMap": {},
     "title": ""
    }
   },
   "outputs": [],
   "source": [
    "aqi_county_df = aqi_county_df_2020.union(aqi_county_df_2021).union(aqi_county_df_2022).union(aqi_county_df_2023).union(aqi_county_df_2024)\n",
    "aqi_county_df.show(5)\n",
    "aqi_county_df.count()"
   ]
  },
  {
   "cell_type": "code",
   "execution_count": 0,
   "metadata": {
    "application/vnd.databricks.v1+cell": {
     "cellMetadata": {
      "byteLimit": 2048000,
      "rowLimit": 10000
     },
     "inputWidgets": {},
     "nuid": "75117212-91cc-4662-8f57-b5e2f8241fc4",
     "showTitle": false,
     "tableResultSettingsMap": {},
     "title": ""
    }
   },
   "outputs": [],
   "source": [
    "aqi_cbsa_df_2020 = spark.read.csv(\"/Volumes/workspace/2235_team2/aqi/annual_aqi_by_cbsa_2020.csv\", header=True, inferSchema=True)\n",
    "aqi_cbsa_df_2021 = spark.read.csv(\"/Volumes/workspace/2235_team2/aqi/annual_aqi_by_cbsa_2021.csv\", header=True, inferSchema=True)\n",
    "aqi_cbsa_df_2022 = spark.read.csv(\"/Volumes/workspace/2235_team2/aqi/annual_aqi_by_cbsa_2022.csv\", header=True, inferSchema=True)\n",
    "aqi_cbsa_df_2023 = spark.read.csv(\"/Volumes/workspace/2235_team2/aqi/annual_aqi_by_cbsa_2023.csv\", header=True, inferSchema=True)\n",
    "aqi_cbsa_df_2024 = spark.read.csv(\"/Volumes/workspace/2235_team2/aqi/annual_aqi_by_cbsa_2024.csv\", header=True, inferSchema=True)\n"
   ]
  },
  {
   "cell_type": "code",
   "execution_count": 0,
   "metadata": {
    "application/vnd.databricks.v1+cell": {
     "cellMetadata": {
      "byteLimit": 2048000,
      "rowLimit": 10000
     },
     "inputWidgets": {},
     "nuid": "a7a2e965-b990-4aa0-8dc4-44cae983b5b0",
     "showTitle": false,
     "tableResultSettingsMap": {},
     "title": ""
    }
   },
   "outputs": [],
   "source": [
    "aqi_cbsa_df_2020.printSchema()"
   ]
  },
  {
   "cell_type": "code",
   "execution_count": 0,
   "metadata": {
    "application/vnd.databricks.v1+cell": {
     "cellMetadata": {
      "byteLimit": 2048000,
      "rowLimit": 10000
     },
     "inputWidgets": {},
     "nuid": "9e6e675c-ba84-4306-8024-ec3db7a0f801",
     "showTitle": false,
     "tableResultSettingsMap": {},
     "title": ""
    }
   },
   "outputs": [],
   "source": [
    "aqi_cbsa_df_2021.printSchema()"
   ]
  },
  {
   "cell_type": "code",
   "execution_count": 0,
   "metadata": {
    "application/vnd.databricks.v1+cell": {
     "cellMetadata": {
      "byteLimit": 2048000,
      "rowLimit": 10000
     },
     "inputWidgets": {},
     "nuid": "08bcc4e8-98c4-43e0-bef1-c991e8098df2",
     "showTitle": false,
     "tableResultSettingsMap": {},
     "title": ""
    }
   },
   "outputs": [],
   "source": [
    "aqi_cbsa_df_2020.show(5)\n",
    "aqi_cbsa_df_2021.show(5)\n",
    "aqi_cbsa_df_2020.count()\n",
    "aqi_cbsa_df_2021.count()"
   ]
  },
  {
   "cell_type": "code",
   "execution_count": 0,
   "metadata": {
    "application/vnd.databricks.v1+cell": {
     "cellMetadata": {
      "byteLimit": 2048000,
      "rowLimit": 10000
     },
     "inputWidgets": {},
     "nuid": "77d13252-6b68-457a-908a-b91d888f63db",
     "showTitle": false,
     "tableResultSettingsMap": {},
     "title": ""
    }
   },
   "outputs": [],
   "source": [
    "aqi_cbsa_df = aqi_cbsa_df_2020.union(aqi_cbsa_df_2021).union(aqi_cbsa_df_2022).union(aqi_cbsa_df_2023).union(aqi_cbsa_df_2024)\n",
    "aqi_cbsa_df.show(5)\n",
    "aqi_cbsa_df.count()"
   ]
  },
  {
   "cell_type": "code",
   "execution_count": 0,
   "metadata": {
    "application/vnd.databricks.v1+cell": {
     "cellMetadata": {
      "byteLimit": 2048000,
      "rowLimit": 10000
     },
     "inputWidgets": {},
     "nuid": "7f846713-e3db-49e1-bc1d-de669e1b32cb",
     "showTitle": false,
     "tableResultSettingsMap": {},
     "title": ""
    }
   },
   "outputs": [],
   "source": [
    "aqi_cbsa_df.count()"
   ]
  },
  {
   "cell_type": "code",
   "execution_count": 0,
   "metadata": {
    "application/vnd.databricks.v1+cell": {
     "cellMetadata": {
      "byteLimit": 2048000,
      "rowLimit": 10000
     },
     "inputWidgets": {},
     "nuid": "ca192168-506a-4657-81aa-05108c500f59",
     "showTitle": false,
     "tableResultSettingsMap": {},
     "title": ""
    }
   },
   "outputs": [],
   "source": [
    "from pyspark.sql.types import *\n",
    "from pyspark.sql.functions import *"
   ]
  },
  {
   "cell_type": "code",
   "execution_count": 0,
   "metadata": {
    "application/vnd.databricks.v1+cell": {
     "cellMetadata": {
      "byteLimit": 2048000,
      "rowLimit": 10000
     },
     "inputWidgets": {},
     "nuid": "33676cf8-7958-4de4-b211-c3c2888c1faf",
     "showTitle": false,
     "tableResultSettingsMap": {},
     "title": ""
    }
   },
   "outputs": [],
   "source": [
    "#importing cbsa & county ref file\n",
    "cbsa_county_ref = spark.read.csv(\"/Volumes/workspace/2235_team2/aqi/cbsa_county.csv\", header=True, inferSchema=True)\n",
    "cbsa_county_ref.show(5)"
   ]
  },
  {
   "cell_type": "code",
   "execution_count": 0,
   "metadata": {
    "application/vnd.databricks.v1+cell": {
     "cellMetadata": {
      "byteLimit": 2048000,
      "rowLimit": 10000
     },
     "inputWidgets": {},
     "nuid": "6f3107b7-29b9-47c6-80ad-f9377a5a9c3d",
     "showTitle": false,
     "tableResultSettingsMap": {},
     "title": ""
    }
   },
   "outputs": [],
   "source": [
    "cbsa_county_ref.printSchema()"
   ]
  },
  {
   "cell_type": "code",
   "execution_count": 0,
   "metadata": {
    "application/vnd.databricks.v1+cell": {
     "cellMetadata": {
      "byteLimit": 2048000,
      "rowLimit": 10000
     },
     "inputWidgets": {},
     "nuid": "a6ec223a-2750-454f-84d9-1a4ca7756268",
     "showTitle": false,
     "tableResultSettingsMap": {},
     "title": ""
    }
   },
   "outputs": [],
   "source": [
    "#Joining with CBSA & County Ref\n",
    "#aqi_cbsa_joined_df = aqi_cbsa_df.join(cbsa_county_ref,aqi_cbsa_df.CBSA == cbsa_county_ref['CBSA Title'] , how='inner')\n",
    "#aqi_cbsa_joined_df.show(2)"
   ]
  },
  {
   "cell_type": "code",
   "execution_count": 0,
   "metadata": {
    "application/vnd.databricks.v1+cell": {
     "cellMetadata": {
      "byteLimit": 2048000,
      "rowLimit": 10000
     },
     "inputWidgets": {},
     "nuid": "448cd171-1c5e-492d-a025-d47aa4cbb788",
     "showTitle": false,
     "tableResultSettingsMap": {},
     "title": ""
    }
   },
   "outputs": [],
   "source": [
    "from pyspark.sql.functions import split, col\n",
    "\n",
    "# Assuming your DataFrame is named df\n",
    "df_split = aqi_cbsa_df.withColumn(\"County\", split(col(\"CBSA\"), \", \")[0]) \\\n",
    "             .withColumn(\"State\", split(col(\"CBSA\"), \", \")[1])\n",
    "\n",
    "# Select the new columns to display the result\n",
    "df_split.show(10)"
   ]
  },
  {
   "cell_type": "code",
   "execution_count": 0,
   "metadata": {
    "application/vnd.databricks.v1+cell": {
     "cellMetadata": {
      "byteLimit": 2048000,
      "rowLimit": 10000
     },
     "inputWidgets": {},
     "nuid": "b8589e4a-fd96-4681-9005-686f5574249d",
     "showTitle": false,
     "tableResultSettingsMap": {},
     "title": ""
    }
   },
   "outputs": [],
   "source": [
    "#Importing FIPS Code for County and State\n",
    "fips_code_county = spark.read.csv(\"/Volumes/workspace/2235_team2/aqi/FIPS_Codes_County.csv\", header=True, inferSchema=True)\n",
    "fips_code_state = spark.read.csv(\"/Volumes/workspace/2235_team2/aqi/FIPS_Codes_State.csv\", header=True, inferSchema=True)"
   ]
  },
  {
   "cell_type": "code",
   "execution_count": 0,
   "metadata": {
    "application/vnd.databricks.v1+cell": {
     "cellMetadata": {
      "byteLimit": 2048000,
      "rowLimit": 10000
     },
     "inputWidgets": {},
     "nuid": "2e88108a-1279-4a44-8ce0-46ea25078944",
     "showTitle": false,
     "tableResultSettingsMap": {},
     "title": ""
    }
   },
   "outputs": [],
   "source": [
    "fips_code_county.show(5)"
   ]
  },
  {
   "cell_type": "code",
   "execution_count": 0,
   "metadata": {
    "application/vnd.databricks.v1+cell": {
     "cellMetadata": {
      "byteLimit": 2048000,
      "rowLimit": 10000
     },
     "inputWidgets": {},
     "nuid": "173e595e-b7d5-44e4-8d7c-978d948aba15",
     "showTitle": false,
     "tableResultSettingsMap": {},
     "title": ""
    }
   },
   "outputs": [],
   "source": [
    "fips_code_state.show(5)"
   ]
  }
 ],
 "metadata": {
  "application/vnd.databricks.v1+notebook": {
   "computePreferences": null,
   "dashboards": [],
   "environmentMetadata": {
    "base_environment": "",
    "environment_version": "2"
   },
   "inputWidgetPreferences": null,
   "language": "python",
   "notebookMetadata": {
    "pythonIndentUnit": 4
   },
   "notebookName": "DBRX_Team2",
   "widgets": {}
  },
  "language_info": {
   "name": "python"
  }
 },
 "nbformat": 4,
 "nbformat_minor": 0
}
