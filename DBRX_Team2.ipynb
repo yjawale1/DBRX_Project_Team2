{
 "cells": [
  {
   "cell_type": "code",
   "execution_count": 0,
   "metadata": {
    "application/vnd.databricks.v1+cell": {
     "cellMetadata": {
      "byteLimit": 2048000,
      "rowLimit": 10000
     },
     "inputWidgets": {},
     "nuid": "1567a2ee-d31f-4566-bd36-ad3a0a097e52",
     "showTitle": false,
     "tableResultSettingsMap": {},
     "title": ""
    }
   },
   "outputs": [],
   "source": [
    "#Team 2 Notebook First Commit #\n",
    "#Commit 2\n",
    "#df for A:\n",
    "aqi_county_df_2020 = spark.read.csv(\"/Volumes/workspace/2235_team2/aqi/annual_aqi_by_county_2020.csv\", header=True, inferSchema=True)\n",
    "aqi_county_df_2021 = spark.read.csv(\"/Volumes/workspace/2235_team2/aqi/annual_aqi_by_county_2021.csv\", header=True, inferSchema=True)\n",
    "aqi_county_df_2022 = spark.read.csv(\"/Volumes/workspace/2235_team2/aqi/annual_aqi_by_county_2022.csv\", header=True, inferSchema=True)\n",
    "aqi_county_df_2023 = spark.read.csv(\"/Volumes/workspace/2235_team2/aqi/annual_aqi_by_county_2023.csv\", header=True, inferSchema=True)\n",
    "aqi_county_df_2024 = spark.read.csv(\"/Volumes/workspace/2235_team2/aqi/annual_aqi_by_county_2024.csv\", header=True, inferSchema=True)\n",
    "\n",
    "aqi_county_df = aqi_county_df_2020.union(aqi_county_df_2021).union(aqi_county_df_2022).union(aqi_county_df_2023).union(aqi_county_df_2024)\n",
    "aqi_county_df.show(2)\n",
    "aqi_county_df.count()"
   ]
  },
  {
   "cell_type": "code",
   "execution_count": 0,
   "metadata": {
    "application/vnd.databricks.v1+cell": {
     "cellMetadata": {
      "byteLimit": 2048000,
      "rowLimit": 10000
     },
     "inputWidgets": {},
     "nuid": "29efb9ce-a3d7-4081-85a0-0e71e917db5e",
     "showTitle": false,
     "tableResultSettingsMap": {},
     "title": ""
    }
   },
   "outputs": [],
   "source": [
    "aqi_county_df.printSchema()"
   ]
  },
  {
   "cell_type": "code",
   "execution_count": 0,
   "metadata": {
    "application/vnd.databricks.v1+cell": {
     "cellMetadata": {
      "byteLimit": 2048000,
      "rowLimit": 10000
     },
     "inputWidgets": {},
     "nuid": "75117212-91cc-4662-8f57-b5e2f8241fc4",
     "showTitle": false,
     "tableResultSettingsMap": {},
     "title": ""
    }
   },
   "outputs": [],
   "source": [
    "#df for C - Sahil\n",
    "aqi_cbsa_df_2020 = spark.read.csv(\"/Volumes/workspace/2235_team2/aqi/annual_aqi_by_cbsa_2020.csv\", header=True, inferSchema=True)\n",
    "aqi_cbsa_df_2021 = spark.read.csv(\"/Volumes/workspace/2235_team2/aqi/annual_aqi_by_cbsa_2021.csv\", header=True, inferSchema=True)\n",
    "aqi_cbsa_df_2022 = spark.read.csv(\"/Volumes/workspace/2235_team2/aqi/annual_aqi_by_cbsa_2022.csv\", header=True, inferSchema=True)\n",
    "aqi_cbsa_df_2023 = spark.read.csv(\"/Volumes/workspace/2235_team2/aqi/annual_aqi_by_cbsa_2023.csv\", header=True, inferSchema=True)\n",
    "aqi_cbsa_df_2024 = spark.read.csv(\"/Volumes/workspace/2235_team2/aqi/annual_aqi_by_cbsa_2024.csv\", header=True, inferSchema=True)\n",
    "\n",
    "aqi_cbsa_df = aqi_cbsa_df_2020.union(aqi_cbsa_df_2021).union(aqi_cbsa_df_2022).union(aqi_cbsa_df_2023).union(aqi_cbsa_df_2024)\n",
    "aqi_cbsa_df.show(2)\n",
    "aqi_cbsa_df.count()\n"
   ]
  },
  {
   "cell_type": "code",
   "execution_count": 0,
   "metadata": {
    "application/vnd.databricks.v1+cell": {
     "cellMetadata": {
      "byteLimit": 2048000,
      "rowLimit": 10000
     },
     "inputWidgets": {},
     "nuid": "ca192168-506a-4657-81aa-05108c500f59",
     "showTitle": false,
     "tableResultSettingsMap": {},
     "title": ""
    }
   },
   "outputs": [],
   "source": [
    "from pyspark.sql.types import *\n",
    "from pyspark.sql.functions import *"
   ]
  },
  {
   "cell_type": "code",
   "execution_count": 0,
   "metadata": {
    "application/vnd.databricks.v1+cell": {
     "cellMetadata": {
      "byteLimit": 2048000,
      "rowLimit": 10000
     },
     "inputWidgets": {},
     "nuid": "33676cf8-7958-4de4-b211-c3c2888c1faf",
     "showTitle": false,
     "tableResultSettingsMap": {},
     "title": ""
    }
   },
   "outputs": [],
   "source": [
    "#importing cbsa & county ref file\n",
    "cbsa_county_ref = spark.read.csv(\"/Volumes/workspace/2235_team2/aqi/cbsa_county.csv\", header=True, inferSchema=True)\n",
    "cbsa_county_ref.show(2)\n",
    "cbsa_county_ref.printSchema()"
   ]
  },
  {
   "cell_type": "code",
   "execution_count": 0,
   "metadata": {
    "application/vnd.databricks.v1+cell": {
     "cellMetadata": {
      "byteLimit": 2048000,
      "rowLimit": 10000
     },
     "inputWidgets": {},
     "nuid": "a6ec223a-2750-454f-84d9-1a4ca7756268",
     "showTitle": false,
     "tableResultSettingsMap": {},
     "title": ""
    }
   },
   "outputs": [],
   "source": [
    "#Joining with CBSA & County Ref\n",
    "#aqi_cbsa_joined_df = aqi_cbsa_df.join(cbsa_county_ref,aqi_cbsa_df.CBSA == cbsa_county_ref['CBSA Title'] , how='inner')\n",
    "#aqi_cbsa_joined_df.show(2)"
   ]
  },
  {
   "cell_type": "code",
   "execution_count": 0,
   "metadata": {
    "application/vnd.databricks.v1+cell": {
     "cellMetadata": {
      "byteLimit": 2048000,
      "rowLimit": 10000
     },
     "inputWidgets": {},
     "nuid": "448cd171-1c5e-492d-a025-d47aa4cbb788",
     "showTitle": false,
     "tableResultSettingsMap": {},
     "title": ""
    }
   },
   "outputs": [],
   "source": [
    "from pyspark.sql.functions import split, col\n",
    "\n",
    "# Assuming your DataFrame is named df\n",
    "df_split = aqi_cbsa_df.withColumn(\"County\", split(col(\"CBSA\"), \", \")[0]) \\\n",
    "             .withColumn(\"State\", split(col(\"CBSA\"), \", \")[1])\n",
    "\n",
    "# Select the new columns to display the result\n",
    "df_split.show(2)"
   ]
  },
  {
   "cell_type": "code",
   "execution_count": 0,
   "metadata": {
    "application/vnd.databricks.v1+cell": {
     "cellMetadata": {
      "byteLimit": 2048000,
      "rowLimit": 10000
     },
     "inputWidgets": {},
     "nuid": "ad9cc7d8-8ce2-4fac-98d0-938a77c2af1d",
     "showTitle": false,
     "tableResultSettingsMap": {},
     "title": ""
    }
   },
   "outputs": [],
   "source": [
    "aqi_cbsa_df = df_split\n",
    "aqi_cbsa_df.show(2)"
   ]
  },
  {
   "cell_type": "code",
   "execution_count": 0,
   "metadata": {
    "application/vnd.databricks.v1+cell": {
     "cellMetadata": {
      "byteLimit": 2048000,
      "rowLimit": 10000
     },
     "inputWidgets": {},
     "nuid": "712b3c7c-efeb-43f2-af13-1b9ad5f24240",
     "showTitle": false,
     "tableResultSettingsMap": {},
     "title": ""
    }
   },
   "outputs": [],
   "source": [
    "aqi_cbsa_df.printSchema()"
   ]
  },
  {
   "cell_type": "code",
   "execution_count": 0,
   "metadata": {
    "application/vnd.databricks.v1+cell": {
     "cellMetadata": {
      "byteLimit": 2048000,
      "rowLimit": 10000
     },
     "inputWidgets": {},
     "nuid": "9a4c964d-f61a-42e5-8b4f-4458a02727d2",
     "showTitle": false,
     "tableResultSettingsMap": {},
     "title": ""
    }
   },
   "outputs": [],
   "source": [
    "from pyspark.sql.functions import trim\n",
    "\n",
    "# Assume df is your Spark DataFrame and 'column_name' is the column you want to trim\n",
    "df_trimmed = aqi_cbsa_df.withColumn('County', trim(aqi_cbsa_df['County']))\n",
    "df_trimmed = aqi_cbsa_df.withColumn('State', trim(aqi_cbsa_df['State']))\n",
    "df_trimmed.show(5)"
   ]
  },
  {
   "cell_type": "code",
   "execution_count": 0,
   "metadata": {
    "application/vnd.databricks.v1+cell": {
     "cellMetadata": {
      "byteLimit": 2048000,
      "rowLimit": 10000
     },
     "inputWidgets": {},
     "nuid": "6aa2dd4d-c7b6-4dfa-9406-ef777334cc96",
     "showTitle": false,
     "tableResultSettingsMap": {},
     "title": ""
    }
   },
   "outputs": [],
   "source": [
    "aqi_cbsa_df = df_trimmed\n",
    "aqi_cbsa_df.show(2)"
   ]
  },
  {
   "cell_type": "code",
   "execution_count": 0,
   "metadata": {
    "application/vnd.databricks.v1+cell": {
     "cellMetadata": {
      "byteLimit": 2048000,
      "rowLimit": 10000
     },
     "inputWidgets": {},
     "nuid": "b8589e4a-fd96-4681-9005-686f5574249d",
     "showTitle": false,
     "tableResultSettingsMap": {},
     "title": ""
    }
   },
   "outputs": [],
   "source": [
    "#Importing FIPS Code for County and State\n",
    "fips_code_county = spark.read.csv(\"/Volumes/workspace/2235_team2/aqi/FIPS_Codes_County.csv\", header=True, inferSchema=True)\n",
    "fips_code_state = spark.read.csv(\"/Volumes/workspace/2235_team2/aqi/FIPS_Codes_State.csv\", header=True, inferSchema=True)"
   ]
  },
  {
   "cell_type": "code",
   "execution_count": 0,
   "metadata": {
    "application/vnd.databricks.v1+cell": {
     "cellMetadata": {
      "byteLimit": 2048000,
      "rowLimit": 10000
     },
     "inputWidgets": {},
     "nuid": "446773d7-22ed-4092-8189-dd1e65dc9ffd",
     "showTitle": false,
     "tableResultSettingsMap": {},
     "title": ""
    }
   },
   "outputs": [],
   "source": [
    "fips_code_county.show(2)\n",
    "fips_code_state.show(2)"
   ]
  },
  {
   "cell_type": "code",
   "execution_count": 0,
   "metadata": {
    "application/vnd.databricks.v1+cell": {
     "cellMetadata": {
      "byteLimit": 2048000,
      "rowLimit": 10000
     },
     "inputWidgets": {},
     "nuid": "f8d5f543-a056-4095-bc3f-27ec7f5b3329",
     "showTitle": false,
     "tableResultSettingsMap": {},
     "title": ""
    }
   },
   "outputs": [],
   "source": [
    "fips_code_county = fips_code_county.withColumn('County', trim(fips_code_county['County']))\n",
    "fips_code_county.show(2)\n",
    "fips_code_county.printSchema()"
   ]
  },
  {
   "cell_type": "code",
   "execution_count": 0,
   "metadata": {
    "application/vnd.databricks.v1+cell": {
     "cellMetadata": {
      "byteLimit": 2048000,
      "rowLimit": 10000
     },
     "inputWidgets": {},
     "nuid": "83103d85-22fa-44c7-910b-20432424c319",
     "showTitle": false,
     "tableResultSettingsMap": {},
     "title": ""
    }
   },
   "outputs": [],
   "source": [
    "fips_code_state = fips_code_state.withColumn('State', lower(trim(fips_code_state['State'])))\n"
   ]
  },
  {
   "cell_type": "code",
   "execution_count": 0,
   "metadata": {
    "application/vnd.databricks.v1+cell": {
     "cellMetadata": {
      "byteLimit": 2048000,
      "rowLimit": 10000
     },
     "inputWidgets": {},
     "nuid": "fb3a727f-0327-4d51-8091-140c4ba94de3",
     "showTitle": false,
     "tableResultSettingsMap": {},
     "title": ""
    }
   },
   "outputs": [],
   "source": [
    "fips_code_state = fips_code_state.withColumn('State Code', trim(fips_code_state['State Code']))"
   ]
  },
  {
   "cell_type": "code",
   "execution_count": 0,
   "metadata": {
    "application/vnd.databricks.v1+cell": {
     "cellMetadata": {
      "byteLimit": 2048000,
      "rowLimit": 10000
     },
     "inputWidgets": {},
     "nuid": "cb127c41-5387-4de8-8f3b-edd0e46374fe",
     "showTitle": false,
     "tableResultSettingsMap": {},
     "title": ""
    }
   },
   "outputs": [],
   "source": [
    "fips_code_state.show(5)"
   ]
  },
  {
   "cell_type": "code",
   "execution_count": 0,
   "metadata": {
    "application/vnd.databricks.v1+cell": {
     "cellMetadata": {
      "byteLimit": 2048000,
      "rowLimit": 10000
     },
     "inputWidgets": {},
     "nuid": "5e3fefe7-fe15-4a19-8da4-cace9e5df19b",
     "showTitle": false,
     "tableResultSettingsMap": {},
     "title": ""
    }
   },
   "outputs": [],
   "source": [
    "# Yash (Start D from here)\n",
    "aqi_cbsa_merged_df = aqi_cbsa_df.join(fips_code_county,aqi_cbsa_df.County == fips_code_county.County & aqi_cbsa_df.State == fips_code_county.State, how='left')\n",
    "aqi_cbsa_merged_df.show(5)"
   ]
  },
  {
   "cell_type": "code",
   "execution_count": 0,
   "metadata": {
    "application/vnd.databricks.v1+cell": {
     "cellMetadata": {
      "byteLimit": 2048000,
      "rowLimit": 10000
     },
     "inputWidgets": {},
     "nuid": "98095d6a-b80e-46d0-b431-77ccace77c58",
     "showTitle": false,
     "tableResultSettingsMap": {},
     "title": ""
    }
   },
   "outputs": [],
   "source": [
    "aqi_cbsa_merged_df.count()"
   ]
  },
  {
   "cell_type": "code",
   "execution_count": 0,
   "metadata": {
    "application/vnd.databricks.v1+cell": {
     "cellMetadata": {
      "byteLimit": 2048000,
      "rowLimit": 10000
     },
     "inputWidgets": {},
     "nuid": "9dd58a2c-9b6f-494f-b691-a1bd4145d399",
     "showTitle": false,
     "tableResultSettingsMap": {},
     "title": ""
    }
   },
   "outputs": [],
   "source": [
    "# Assume df is your Spark DataFrame and 'column_name' is the column to check for nulls\n",
    "from pyspark.sql.functions import col\n",
    "#aqi_cbsa_merged_nulls = aqi_cbsa_merged_df.filter(aqi_cbsa_merged_df['FIPS County Code'].isNull())\n",
    "null_count = aqi_cbsa_merged_df.filter(col('FIPS County Code').isNull()).count()\n",
    "print(f\"Number of nulls: {null_count}\")"
   ]
  },
  {
   "cell_type": "code",
   "execution_count": 0,
   "metadata": {
    "application/vnd.databricks.v1+cell": {
     "cellMetadata": {
      "byteLimit": 2048000,
      "rowLimit": 10000
     },
     "inputWidgets": {},
     "nuid": "213f3a2e-0f35-43e1-b875-e2b68e015380",
     "showTitle": false,
     "tableResultSettingsMap": {},
     "title": ""
    }
   },
   "outputs": [],
   "source": [
    "aqi_cbsa_merged_df.count()"
   ]
  },
  {
   "cell_type": "code",
   "execution_count": 0,
   "metadata": {
    "application/vnd.databricks.v1+cell": {
     "cellMetadata": {
      "byteLimit": 2048000,
      "rowLimit": 10000
     },
     "inputWidgets": {},
     "nuid": "a269b364-4f39-411d-aa47-5bd6e91c6359",
     "showTitle": false,
     "tableResultSettingsMap": {},
     "title": ""
    }
   },
   "outputs": [],
   "source": [
    "aqi_cbsa_merged_final_df = aqi_cbsa_merged_df.join(fips_code_state,aqi_cbsa_merged_df.State ==fips_code_state['State Code'] , how='inner')\n",
    "aqi_cbsa_merged_final_df.show(5)"
   ]
  },
  {
   "cell_type": "code",
   "execution_count": 0,
   "metadata": {
    "application/vnd.databricks.v1+cell": {
     "cellMetadata": {
      "byteLimit": 2048000,
      "rowLimit": 10000
     },
     "inputWidgets": {},
     "nuid": "f0abd76c-3327-4c9a-949f-93316f2f9e64",
     "showTitle": false,
     "tableResultSettingsMap": {},
     "title": ""
    }
   },
   "outputs": [],
   "source": [
    "null_count = aqi_cbsa_merged_final_df.filter(col('FIPS State Code').isNull()).count()\n",
    "print(f\"Number of nulls: {null_count}\")"
   ]
  },
  {
   "cell_type": "code",
   "execution_count": 0,
   "metadata": {
    "application/vnd.databricks.v1+cell": {
     "cellMetadata": {
      "byteLimit": 2048000,
      "rowLimit": 10000
     },
     "inputWidgets": {},
     "nuid": "7da3a10b-6d79-44c3-a7ef-8833df1b1df9",
     "showTitle": false,
     "tableResultSettingsMap": {},
     "title": ""
    }
   },
   "outputs": [],
   "source": [
    "aqi_county_df.printSchema()"
   ]
  },
  {
   "cell_type": "code",
   "execution_count": 0,
   "metadata": {
    "application/vnd.databricks.v1+cell": {
     "cellMetadata": {
      "byteLimit": 2048000,
      "rowLimit": 10000
     },
     "inputWidgets": {},
     "nuid": "b5f49cd5-fdca-4bd9-b987-c4b9f2d4c9c7",
     "showTitle": false,
     "tableResultSettingsMap": {},
     "title": ""
    }
   },
   "outputs": [],
   "source": [
    "\n",
    "# Assume df is your Spark DataFrame and 'column_name' is the column you want to trim\n",
    "aqi_county_df_trimmed = aqi_county_df.withColumn('County', trim(aqi_county_df['County']))\n",
    "aqi_county_df_trimmed = aqi_county_df.withColumn('State', lower(trim(aqi_county_df['State'])))\n",
    "aqi_county_df_trimmed.show(5)"
   ]
  },
  {
   "cell_type": "code",
   "execution_count": 0,
   "metadata": {
    "application/vnd.databricks.v1+cell": {
     "cellMetadata": {
      "byteLimit": 2048000,
      "rowLimit": 10000
     },
     "inputWidgets": {},
     "nuid": "a7ae0ae5-3a0d-438e-a089-b224db6cc93c",
     "showTitle": false,
     "tableResultSettingsMap": {},
     "title": ""
    }
   },
   "outputs": [],
   "source": [
    "aqi_county_df = aqi_county_df_trimmed\n",
    "aqi_county_df.show(2)"
   ]
  },
  {
   "cell_type": "code",
   "execution_count": 0,
   "metadata": {
    "application/vnd.databricks.v1+cell": {
     "cellMetadata": {
      "byteLimit": 2048000,
      "rowLimit": 10000
     },
     "inputWidgets": {},
     "nuid": "ce095b7a-ddfa-4fc9-872a-bf4e2e6270f3",
     "showTitle": false,
     "tableResultSettingsMap": {},
     "title": ""
    }
   },
   "outputs": [],
   "source": [
    "aqi_county_merged_df = aqi_county_df.join(fips_code_county,aqi_county_df.County == fips_code_county.County, how='inner')\n",
    "aqi_county_merged_df.show(2)"
   ]
  },
  {
   "cell_type": "code",
   "execution_count": 0,
   "metadata": {
    "application/vnd.databricks.v1+cell": {
     "cellMetadata": {
      "byteLimit": 2048000,
      "rowLimit": 10000
     },
     "inputWidgets": {},
     "nuid": "42198d15-c22b-4696-b4cb-4d5852166701",
     "showTitle": false,
     "tableResultSettingsMap": {},
     "title": ""
    }
   },
   "outputs": [],
   "source": [
    "aqi_county_merged_df.count()"
   ]
  },
  {
   "cell_type": "code",
   "execution_count": 0,
   "metadata": {
    "application/vnd.databricks.v1+cell": {
     "cellMetadata": {
      "byteLimit": 2048000,
      "rowLimit": 10000
     },
     "inputWidgets": {},
     "nuid": "effcf561-dd50-417f-9952-2fcf896faabe",
     "showTitle": false,
     "tableResultSettingsMap": {},
     "title": ""
    }
   },
   "outputs": [],
   "source": [
    "null_count = aqi_county_merged_df.filter(col('FIPS County Code').isNull()).count()\n",
    "print(f\"Number of nulls: {null_count}\")"
   ]
  },
  {
   "cell_type": "code",
   "execution_count": 0,
   "metadata": {
    "application/vnd.databricks.v1+cell": {
     "cellMetadata": {
      "byteLimit": 2048000,
      "rowLimit": 10000
     },
     "inputWidgets": {},
     "nuid": "d73c03f6-afdd-4c24-8e27-ad303b356a2c",
     "showTitle": false,
     "tableResultSettingsMap": {},
     "title": ""
    }
   },
   "outputs": [],
   "source": [
    "aqi_county_merged_final_df = aqi_county_merged_df.join(fips_code_state,aqi_county_merged_df.State ==fips_code_state['State'] , how='inner')\n",
    "aqi_county_merged_final_df.show(4)"
   ]
  },
  {
   "cell_type": "code",
   "execution_count": 0,
   "metadata": {
    "application/vnd.databricks.v1+cell": {
     "cellMetadata": {
      "byteLimit": 2048000,
      "rowLimit": 10000
     },
     "inputWidgets": {},
     "nuid": "364dc498-cd8b-436d-9d7b-5706d5952760",
     "showTitle": false,
     "tableResultSettingsMap": {},
     "title": ""
    }
   },
   "outputs": [],
   "source": [
    "aqi_county_merged_final_df.count()"
   ]
  },
  {
   "cell_type": "code",
   "execution_count": 0,
   "metadata": {
    "application/vnd.databricks.v1+cell": {
     "cellMetadata": {
      "byteLimit": 2048000,
      "rowLimit": 10000
     },
     "inputWidgets": {},
     "nuid": "c77ac352-d9a3-4fda-9720-009e701cd20f",
     "showTitle": false,
     "tableResultSettingsMap": {},
     "title": ""
    }
   },
   "outputs": [],
   "source": [
    "null_count = aqi_county_merged_final_df.filter(col('FIPS State Code').isNull()).count()\n",
    "print(f\"Number of nulls: {null_count}\")"
   ]
  },
  {
   "cell_type": "code",
   "execution_count": 0,
   "metadata": {
    "application/vnd.databricks.v1+cell": {
     "cellMetadata": {
      "byteLimit": 2048000,
      "rowLimit": 10000
     },
     "inputWidgets": {},
     "nuid": "9d6409b3-030d-4402-b663-c2972ddb37cd",
     "showTitle": false,
     "tableResultSettingsMap": {},
     "title": ""
    }
   },
   "outputs": [],
   "source": [
    "aqi_cbsa_df = aqi_cbsa_merged_final_df\n",
    "aqi_county_df = aqi_county_merged_final_df"
   ]
  },
  {
   "cell_type": "code",
   "execution_count": 0,
   "metadata": {
    "application/vnd.databricks.v1+cell": {
     "cellMetadata": {
      "byteLimit": 2048000,
      "rowLimit": 10000
     },
     "inputWidgets": {},
     "nuid": "9247ebd0-9ec6-4b69-bad2-7766c619441c",
     "showTitle": false,
     "tableResultSettingsMap": {},
     "title": ""
    }
   },
   "outputs": [],
   "source": [
    "aqi_cbsa_df.show(5)"
   ]
  },
  {
   "cell_type": "code",
   "execution_count": 0,
   "metadata": {
    "application/vnd.databricks.v1+cell": {
     "cellMetadata": {
      "byteLimit": 2048000,
      "rowLimit": 10000
     },
     "inputWidgets": {},
     "nuid": "1d6ef24c-7a2b-4071-902f-67da437d30af",
     "showTitle": false,
     "tableResultSettingsMap": {},
     "title": ""
    }
   },
   "outputs": [],
   "source": [
    "aqi_county_df.show(5)"
   ]
  },
  {
   "cell_type": "code",
   "execution_count": 0,
   "metadata": {
    "application/vnd.databricks.v1+cell": {
     "cellMetadata": {
      "byteLimit": 2048000,
      "rowLimit": 10000
     },
     "inputWidgets": {},
     "nuid": "078ec0cb-358d-4d3e-8d8b-61a7a4a0d32d",
     "showTitle": false,
     "tableResultSettingsMap": {},
     "title": ""
    }
   },
   "outputs": [],
   "source": [
    "aqi_cbsa_df.count()"
   ]
  },
  {
   "cell_type": "code",
   "execution_count": 0,
   "metadata": {
    "application/vnd.databricks.v1+cell": {
     "cellMetadata": {
      "byteLimit": 2048000,
      "rowLimit": 10000
     },
     "inputWidgets": {},
     "nuid": "9470d1d8-a855-497e-8080-1fea7fb9994b",
     "showTitle": false,
     "tableResultSettingsMap": {},
     "title": ""
    }
   },
   "outputs": [],
   "source": [
    "aqi_county_df.count()"
   ]
  }
 ],
 "metadata": {
  "application/vnd.databricks.v1+notebook": {
   "computePreferences": null,
   "dashboards": [],
   "environmentMetadata": {
    "base_environment": "",
    "environment_version": "2"
   },
   "inputWidgetPreferences": null,
   "language": "python",
   "notebookMetadata": {
    "pythonIndentUnit": 4
   },
   "notebookName": "DBRX_Team2",
   "widgets": {}
  },
  "language_info": {
   "name": "python"
  }
 },
 "nbformat": 4,
 "nbformat_minor": 0
}
